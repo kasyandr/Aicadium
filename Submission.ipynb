{
 "cells": [
  {
   "cell_type": "markdown",
   "id": "dc139bcd",
   "metadata": {},
   "source": [
    "# Basics"
   ]
  },
  {
   "cell_type": "code",
   "execution_count": 1,
   "id": "aa2c5463",
   "metadata": {},
   "outputs": [],
   "source": [
    "import pandas as pd\n",
    "import numpy as np"
   ]
  },
  {
   "cell_type": "code",
   "execution_count": 2,
   "id": "2333707b",
   "metadata": {},
   "outputs": [
    {
     "data": {
      "text/html": [
       "<div>\n",
       "<style scoped>\n",
       "    .dataframe tbody tr th:only-of-type {\n",
       "        vertical-align: middle;\n",
       "    }\n",
       "\n",
       "    .dataframe tbody tr th {\n",
       "        vertical-align: top;\n",
       "    }\n",
       "\n",
       "    .dataframe thead th {\n",
       "        text-align: right;\n",
       "    }\n",
       "</style>\n",
       "<table border=\"1\" class=\"dataframe\">\n",
       "  <thead>\n",
       "    <tr style=\"text-align: right;\">\n",
       "      <th></th>\n",
       "      <th>Administrative</th>\n",
       "      <th>Administrative_Duration</th>\n",
       "      <th>Informational</th>\n",
       "      <th>Informational_Duration</th>\n",
       "      <th>ProductRelated</th>\n",
       "      <th>ProductRelated_Duration</th>\n",
       "      <th>BounceRates</th>\n",
       "      <th>ExitRates</th>\n",
       "      <th>PageValues</th>\n",
       "      <th>SpecialDay</th>\n",
       "      <th>Month</th>\n",
       "      <th>OperatingSystems</th>\n",
       "      <th>Browser</th>\n",
       "      <th>Region</th>\n",
       "      <th>TrafficType</th>\n",
       "      <th>VisitorType</th>\n",
       "      <th>Weekend</th>\n",
       "      <th>Revenue</th>\n",
       "    </tr>\n",
       "  </thead>\n",
       "  <tbody>\n",
       "    <tr>\n",
       "      <th>0</th>\n",
       "      <td>0</td>\n",
       "      <td>0.0</td>\n",
       "      <td>0</td>\n",
       "      <td>0.0</td>\n",
       "      <td>1</td>\n",
       "      <td>0.000000</td>\n",
       "      <td>0.200000</td>\n",
       "      <td>0.200000</td>\n",
       "      <td>0.0</td>\n",
       "      <td>0.0</td>\n",
       "      <td>Feb</td>\n",
       "      <td>1</td>\n",
       "      <td>1</td>\n",
       "      <td>1</td>\n",
       "      <td>1</td>\n",
       "      <td>Returning_Visitor</td>\n",
       "      <td>False</td>\n",
       "      <td>False</td>\n",
       "    </tr>\n",
       "    <tr>\n",
       "      <th>1</th>\n",
       "      <td>0</td>\n",
       "      <td>0.0</td>\n",
       "      <td>0</td>\n",
       "      <td>0.0</td>\n",
       "      <td>2</td>\n",
       "      <td>64.000000</td>\n",
       "      <td>0.000000</td>\n",
       "      <td>0.100000</td>\n",
       "      <td>0.0</td>\n",
       "      <td>0.0</td>\n",
       "      <td>Feb</td>\n",
       "      <td>2</td>\n",
       "      <td>2</td>\n",
       "      <td>1</td>\n",
       "      <td>2</td>\n",
       "      <td>Returning_Visitor</td>\n",
       "      <td>False</td>\n",
       "      <td>False</td>\n",
       "    </tr>\n",
       "    <tr>\n",
       "      <th>2</th>\n",
       "      <td>0</td>\n",
       "      <td>0.0</td>\n",
       "      <td>0</td>\n",
       "      <td>0.0</td>\n",
       "      <td>1</td>\n",
       "      <td>0.000000</td>\n",
       "      <td>0.200000</td>\n",
       "      <td>0.200000</td>\n",
       "      <td>0.0</td>\n",
       "      <td>0.0</td>\n",
       "      <td>Feb</td>\n",
       "      <td>4</td>\n",
       "      <td>1</td>\n",
       "      <td>9</td>\n",
       "      <td>3</td>\n",
       "      <td>Returning_Visitor</td>\n",
       "      <td>False</td>\n",
       "      <td>False</td>\n",
       "    </tr>\n",
       "    <tr>\n",
       "      <th>3</th>\n",
       "      <td>0</td>\n",
       "      <td>0.0</td>\n",
       "      <td>0</td>\n",
       "      <td>0.0</td>\n",
       "      <td>2</td>\n",
       "      <td>2.666667</td>\n",
       "      <td>0.050000</td>\n",
       "      <td>0.140000</td>\n",
       "      <td>0.0</td>\n",
       "      <td>0.0</td>\n",
       "      <td>Feb</td>\n",
       "      <td>3</td>\n",
       "      <td>2</td>\n",
       "      <td>2</td>\n",
       "      <td>4</td>\n",
       "      <td>Returning_Visitor</td>\n",
       "      <td>False</td>\n",
       "      <td>False</td>\n",
       "    </tr>\n",
       "    <tr>\n",
       "      <th>4</th>\n",
       "      <td>0</td>\n",
       "      <td>0.0</td>\n",
       "      <td>0</td>\n",
       "      <td>0.0</td>\n",
       "      <td>10</td>\n",
       "      <td>627.500000</td>\n",
       "      <td>0.020000</td>\n",
       "      <td>0.050000</td>\n",
       "      <td>0.0</td>\n",
       "      <td>0.0</td>\n",
       "      <td>Feb</td>\n",
       "      <td>3</td>\n",
       "      <td>3</td>\n",
       "      <td>1</td>\n",
       "      <td>4</td>\n",
       "      <td>Returning_Visitor</td>\n",
       "      <td>True</td>\n",
       "      <td>False</td>\n",
       "    </tr>\n",
       "    <tr>\n",
       "      <th>5</th>\n",
       "      <td>0</td>\n",
       "      <td>0.0</td>\n",
       "      <td>0</td>\n",
       "      <td>0.0</td>\n",
       "      <td>19</td>\n",
       "      <td>154.216667</td>\n",
       "      <td>0.015789</td>\n",
       "      <td>0.024561</td>\n",
       "      <td>0.0</td>\n",
       "      <td>0.0</td>\n",
       "      <td>Feb</td>\n",
       "      <td>2</td>\n",
       "      <td>2</td>\n",
       "      <td>1</td>\n",
       "      <td>3</td>\n",
       "      <td>Returning_Visitor</td>\n",
       "      <td>False</td>\n",
       "      <td>False</td>\n",
       "    </tr>\n",
       "    <tr>\n",
       "      <th>6</th>\n",
       "      <td>0</td>\n",
       "      <td>0.0</td>\n",
       "      <td>0</td>\n",
       "      <td>0.0</td>\n",
       "      <td>1</td>\n",
       "      <td>0.000000</td>\n",
       "      <td>0.200000</td>\n",
       "      <td>0.200000</td>\n",
       "      <td>0.0</td>\n",
       "      <td>0.4</td>\n",
       "      <td>Feb</td>\n",
       "      <td>2</td>\n",
       "      <td>4</td>\n",
       "      <td>3</td>\n",
       "      <td>3</td>\n",
       "      <td>Returning_Visitor</td>\n",
       "      <td>False</td>\n",
       "      <td>False</td>\n",
       "    </tr>\n",
       "    <tr>\n",
       "      <th>7</th>\n",
       "      <td>1</td>\n",
       "      <td>0.0</td>\n",
       "      <td>0</td>\n",
       "      <td>0.0</td>\n",
       "      <td>0</td>\n",
       "      <td>0.000000</td>\n",
       "      <td>0.200000</td>\n",
       "      <td>0.200000</td>\n",
       "      <td>0.0</td>\n",
       "      <td>0.0</td>\n",
       "      <td>Feb</td>\n",
       "      <td>1</td>\n",
       "      <td>2</td>\n",
       "      <td>1</td>\n",
       "      <td>5</td>\n",
       "      <td>Returning_Visitor</td>\n",
       "      <td>True</td>\n",
       "      <td>False</td>\n",
       "    </tr>\n",
       "    <tr>\n",
       "      <th>8</th>\n",
       "      <td>0</td>\n",
       "      <td>0.0</td>\n",
       "      <td>0</td>\n",
       "      <td>0.0</td>\n",
       "      <td>2</td>\n",
       "      <td>37.000000</td>\n",
       "      <td>0.000000</td>\n",
       "      <td>0.100000</td>\n",
       "      <td>0.0</td>\n",
       "      <td>0.8</td>\n",
       "      <td>Feb</td>\n",
       "      <td>2</td>\n",
       "      <td>2</td>\n",
       "      <td>2</td>\n",
       "      <td>3</td>\n",
       "      <td>Returning_Visitor</td>\n",
       "      <td>False</td>\n",
       "      <td>False</td>\n",
       "    </tr>\n",
       "    <tr>\n",
       "      <th>9</th>\n",
       "      <td>0</td>\n",
       "      <td>0.0</td>\n",
       "      <td>0</td>\n",
       "      <td>0.0</td>\n",
       "      <td>3</td>\n",
       "      <td>738.000000</td>\n",
       "      <td>0.000000</td>\n",
       "      <td>0.022222</td>\n",
       "      <td>0.0</td>\n",
       "      <td>0.4</td>\n",
       "      <td>Feb</td>\n",
       "      <td>2</td>\n",
       "      <td>4</td>\n",
       "      <td>1</td>\n",
       "      <td>2</td>\n",
       "      <td>Returning_Visitor</td>\n",
       "      <td>False</td>\n",
       "      <td>False</td>\n",
       "    </tr>\n",
       "    <tr>\n",
       "      <th>10</th>\n",
       "      <td>0</td>\n",
       "      <td>0.0</td>\n",
       "      <td>0</td>\n",
       "      <td>0.0</td>\n",
       "      <td>3</td>\n",
       "      <td>395.000000</td>\n",
       "      <td>0.000000</td>\n",
       "      <td>0.066667</td>\n",
       "      <td>0.0</td>\n",
       "      <td>0.0</td>\n",
       "      <td>Feb</td>\n",
       "      <td>1</td>\n",
       "      <td>1</td>\n",
       "      <td>3</td>\n",
       "      <td>3</td>\n",
       "      <td>Returning_Visitor</td>\n",
       "      <td>False</td>\n",
       "      <td>False</td>\n",
       "    </tr>\n",
       "    <tr>\n",
       "      <th>11</th>\n",
       "      <td>0</td>\n",
       "      <td>0.0</td>\n",
       "      <td>0</td>\n",
       "      <td>0.0</td>\n",
       "      <td>16</td>\n",
       "      <td>407.750000</td>\n",
       "      <td>0.018750</td>\n",
       "      <td>0.025833</td>\n",
       "      <td>0.0</td>\n",
       "      <td>0.4</td>\n",
       "      <td>Feb</td>\n",
       "      <td>1</td>\n",
       "      <td>1</td>\n",
       "      <td>4</td>\n",
       "      <td>3</td>\n",
       "      <td>Returning_Visitor</td>\n",
       "      <td>False</td>\n",
       "      <td>False</td>\n",
       "    </tr>\n",
       "    <tr>\n",
       "      <th>12</th>\n",
       "      <td>0</td>\n",
       "      <td>0.0</td>\n",
       "      <td>0</td>\n",
       "      <td>0.0</td>\n",
       "      <td>7</td>\n",
       "      <td>280.500000</td>\n",
       "      <td>0.000000</td>\n",
       "      <td>0.028571</td>\n",
       "      <td>0.0</td>\n",
       "      <td>0.0</td>\n",
       "      <td>Feb</td>\n",
       "      <td>1</td>\n",
       "      <td>1</td>\n",
       "      <td>1</td>\n",
       "      <td>3</td>\n",
       "      <td>Returning_Visitor</td>\n",
       "      <td>False</td>\n",
       "      <td>False</td>\n",
       "    </tr>\n",
       "    <tr>\n",
       "      <th>13</th>\n",
       "      <td>0</td>\n",
       "      <td>0.0</td>\n",
       "      <td>0</td>\n",
       "      <td>0.0</td>\n",
       "      <td>6</td>\n",
       "      <td>98.000000</td>\n",
       "      <td>0.000000</td>\n",
       "      <td>0.066667</td>\n",
       "      <td>0.0</td>\n",
       "      <td>0.0</td>\n",
       "      <td>Feb</td>\n",
       "      <td>2</td>\n",
       "      <td>5</td>\n",
       "      <td>1</td>\n",
       "      <td>3</td>\n",
       "      <td>Returning_Visitor</td>\n",
       "      <td>False</td>\n",
       "      <td>False</td>\n",
       "    </tr>\n",
       "    <tr>\n",
       "      <th>14</th>\n",
       "      <td>0</td>\n",
       "      <td>0.0</td>\n",
       "      <td>0</td>\n",
       "      <td>0.0</td>\n",
       "      <td>2</td>\n",
       "      <td>68.000000</td>\n",
       "      <td>0.000000</td>\n",
       "      <td>0.100000</td>\n",
       "      <td>0.0</td>\n",
       "      <td>0.0</td>\n",
       "      <td>Feb</td>\n",
       "      <td>3</td>\n",
       "      <td>2</td>\n",
       "      <td>3</td>\n",
       "      <td>3</td>\n",
       "      <td>Returning_Visitor</td>\n",
       "      <td>False</td>\n",
       "      <td>False</td>\n",
       "    </tr>\n",
       "    <tr>\n",
       "      <th>15</th>\n",
       "      <td>2</td>\n",
       "      <td>53.0</td>\n",
       "      <td>0</td>\n",
       "      <td>0.0</td>\n",
       "      <td>23</td>\n",
       "      <td>1668.285119</td>\n",
       "      <td>0.008333</td>\n",
       "      <td>0.016313</td>\n",
       "      <td>0.0</td>\n",
       "      <td>0.0</td>\n",
       "      <td>Feb</td>\n",
       "      <td>1</td>\n",
       "      <td>1</td>\n",
       "      <td>9</td>\n",
       "      <td>3</td>\n",
       "      <td>Returning_Visitor</td>\n",
       "      <td>False</td>\n",
       "      <td>False</td>\n",
       "    </tr>\n",
       "    <tr>\n",
       "      <th>16</th>\n",
       "      <td>0</td>\n",
       "      <td>0.0</td>\n",
       "      <td>0</td>\n",
       "      <td>0.0</td>\n",
       "      <td>1</td>\n",
       "      <td>0.000000</td>\n",
       "      <td>0.200000</td>\n",
       "      <td>0.200000</td>\n",
       "      <td>0.0</td>\n",
       "      <td>0.0</td>\n",
       "      <td>Feb</td>\n",
       "      <td>1</td>\n",
       "      <td>1</td>\n",
       "      <td>4</td>\n",
       "      <td>3</td>\n",
       "      <td>Returning_Visitor</td>\n",
       "      <td>False</td>\n",
       "      <td>False</td>\n",
       "    </tr>\n",
       "    <tr>\n",
       "      <th>17</th>\n",
       "      <td>0</td>\n",
       "      <td>0.0</td>\n",
       "      <td>0</td>\n",
       "      <td>0.0</td>\n",
       "      <td>13</td>\n",
       "      <td>334.966667</td>\n",
       "      <td>0.000000</td>\n",
       "      <td>0.007692</td>\n",
       "      <td>0.0</td>\n",
       "      <td>0.0</td>\n",
       "      <td>Feb</td>\n",
       "      <td>1</td>\n",
       "      <td>1</td>\n",
       "      <td>1</td>\n",
       "      <td>4</td>\n",
       "      <td>Returning_Visitor</td>\n",
       "      <td>True</td>\n",
       "      <td>False</td>\n",
       "    </tr>\n",
       "    <tr>\n",
       "      <th>18</th>\n",
       "      <td>0</td>\n",
       "      <td>0.0</td>\n",
       "      <td>0</td>\n",
       "      <td>0.0</td>\n",
       "      <td>2</td>\n",
       "      <td>32.000000</td>\n",
       "      <td>0.000000</td>\n",
       "      <td>0.100000</td>\n",
       "      <td>0.0</td>\n",
       "      <td>0.0</td>\n",
       "      <td>Feb</td>\n",
       "      <td>2</td>\n",
       "      <td>2</td>\n",
       "      <td>1</td>\n",
       "      <td>3</td>\n",
       "      <td>Returning_Visitor</td>\n",
       "      <td>False</td>\n",
       "      <td>False</td>\n",
       "    </tr>\n",
       "    <tr>\n",
       "      <th>19</th>\n",
       "      <td>0</td>\n",
       "      <td>0.0</td>\n",
       "      <td>0</td>\n",
       "      <td>0.0</td>\n",
       "      <td>20</td>\n",
       "      <td>2981.166667</td>\n",
       "      <td>0.000000</td>\n",
       "      <td>0.010000</td>\n",
       "      <td>0.0</td>\n",
       "      <td>0.0</td>\n",
       "      <td>Feb</td>\n",
       "      <td>2</td>\n",
       "      <td>4</td>\n",
       "      <td>4</td>\n",
       "      <td>4</td>\n",
       "      <td>Returning_Visitor</td>\n",
       "      <td>False</td>\n",
       "      <td>False</td>\n",
       "    </tr>\n",
       "  </tbody>\n",
       "</table>\n",
       "</div>"
      ],
      "text/plain": [
       "    Administrative  Administrative_Duration  Informational  \\\n",
       "0                0                      0.0              0   \n",
       "1                0                      0.0              0   \n",
       "2                0                      0.0              0   \n",
       "3                0                      0.0              0   \n",
       "4                0                      0.0              0   \n",
       "5                0                      0.0              0   \n",
       "6                0                      0.0              0   \n",
       "7                1                      0.0              0   \n",
       "8                0                      0.0              0   \n",
       "9                0                      0.0              0   \n",
       "10               0                      0.0              0   \n",
       "11               0                      0.0              0   \n",
       "12               0                      0.0              0   \n",
       "13               0                      0.0              0   \n",
       "14               0                      0.0              0   \n",
       "15               2                     53.0              0   \n",
       "16               0                      0.0              0   \n",
       "17               0                      0.0              0   \n",
       "18               0                      0.0              0   \n",
       "19               0                      0.0              0   \n",
       "\n",
       "    Informational_Duration  ProductRelated  ProductRelated_Duration  \\\n",
       "0                      0.0               1                 0.000000   \n",
       "1                      0.0               2                64.000000   \n",
       "2                      0.0               1                 0.000000   \n",
       "3                      0.0               2                 2.666667   \n",
       "4                      0.0              10               627.500000   \n",
       "5                      0.0              19               154.216667   \n",
       "6                      0.0               1                 0.000000   \n",
       "7                      0.0               0                 0.000000   \n",
       "8                      0.0               2                37.000000   \n",
       "9                      0.0               3               738.000000   \n",
       "10                     0.0               3               395.000000   \n",
       "11                     0.0              16               407.750000   \n",
       "12                     0.0               7               280.500000   \n",
       "13                     0.0               6                98.000000   \n",
       "14                     0.0               2                68.000000   \n",
       "15                     0.0              23              1668.285119   \n",
       "16                     0.0               1                 0.000000   \n",
       "17                     0.0              13               334.966667   \n",
       "18                     0.0               2                32.000000   \n",
       "19                     0.0              20              2981.166667   \n",
       "\n",
       "    BounceRates  ExitRates  PageValues  SpecialDay Month  OperatingSystems  \\\n",
       "0      0.200000   0.200000         0.0         0.0   Feb                 1   \n",
       "1      0.000000   0.100000         0.0         0.0   Feb                 2   \n",
       "2      0.200000   0.200000         0.0         0.0   Feb                 4   \n",
       "3      0.050000   0.140000         0.0         0.0   Feb                 3   \n",
       "4      0.020000   0.050000         0.0         0.0   Feb                 3   \n",
       "5      0.015789   0.024561         0.0         0.0   Feb                 2   \n",
       "6      0.200000   0.200000         0.0         0.4   Feb                 2   \n",
       "7      0.200000   0.200000         0.0         0.0   Feb                 1   \n",
       "8      0.000000   0.100000         0.0         0.8   Feb                 2   \n",
       "9      0.000000   0.022222         0.0         0.4   Feb                 2   \n",
       "10     0.000000   0.066667         0.0         0.0   Feb                 1   \n",
       "11     0.018750   0.025833         0.0         0.4   Feb                 1   \n",
       "12     0.000000   0.028571         0.0         0.0   Feb                 1   \n",
       "13     0.000000   0.066667         0.0         0.0   Feb                 2   \n",
       "14     0.000000   0.100000         0.0         0.0   Feb                 3   \n",
       "15     0.008333   0.016313         0.0         0.0   Feb                 1   \n",
       "16     0.200000   0.200000         0.0         0.0   Feb                 1   \n",
       "17     0.000000   0.007692         0.0         0.0   Feb                 1   \n",
       "18     0.000000   0.100000         0.0         0.0   Feb                 2   \n",
       "19     0.000000   0.010000         0.0         0.0   Feb                 2   \n",
       "\n",
       "    Browser  Region  TrafficType        VisitorType  Weekend  Revenue  \n",
       "0         1       1            1  Returning_Visitor    False    False  \n",
       "1         2       1            2  Returning_Visitor    False    False  \n",
       "2         1       9            3  Returning_Visitor    False    False  \n",
       "3         2       2            4  Returning_Visitor    False    False  \n",
       "4         3       1            4  Returning_Visitor     True    False  \n",
       "5         2       1            3  Returning_Visitor    False    False  \n",
       "6         4       3            3  Returning_Visitor    False    False  \n",
       "7         2       1            5  Returning_Visitor     True    False  \n",
       "8         2       2            3  Returning_Visitor    False    False  \n",
       "9         4       1            2  Returning_Visitor    False    False  \n",
       "10        1       3            3  Returning_Visitor    False    False  \n",
       "11        1       4            3  Returning_Visitor    False    False  \n",
       "12        1       1            3  Returning_Visitor    False    False  \n",
       "13        5       1            3  Returning_Visitor    False    False  \n",
       "14        2       3            3  Returning_Visitor    False    False  \n",
       "15        1       9            3  Returning_Visitor    False    False  \n",
       "16        1       4            3  Returning_Visitor    False    False  \n",
       "17        1       1            4  Returning_Visitor     True    False  \n",
       "18        2       1            3  Returning_Visitor    False    False  \n",
       "19        4       4            4  Returning_Visitor    False    False  "
      ]
     },
     "execution_count": 2,
     "metadata": {},
     "output_type": "execute_result"
    }
   ],
   "source": [
    "data = pd.read_csv('coding_round_data.csv')\n",
    "data.head(20)"
   ]
  },
  {
   "cell_type": "markdown",
   "id": "a563ab33",
   "metadata": {},
   "source": [
    "- This data set contains transactions occurring in an online store (E-commerce).\n",
    "\n",
    "- Out of the 12,330 customer samples in the dataset, 84.5% (10,422) were negative class samples (i.e. customers who did not end up buying the product), and the rest (1908) were positive class samples (i.e. customers who ended up buying).\n",
    "- The dataset consists of 10 numerical and 8 categorical attributes.\n",
    "\n",
    "- The 'Revenue' attribute can be used as the class label.\n",
    "\n",
    "- \"Administrative\", \"Administrative Duration\", \"Informational\", \"Informational Duration\", \"Product Related\" and \"Product Related Duration\": These represent the number of different types of pages visited by the visitor in that session and total time spent in each of these page categories. The values of these features are derived from the URL information of the pages visited by the user and updated in real time when a user takes an action, e.g. moving from one page to another.\n",
    "- The \"Bounce Rate\", \"Exit Rate\" and \"Page Value\" features represent the metrics measured by \"Google Analytics\" for each page in the e-commerce site.\n",
    "\n",
    "Bounce Rate: The value of \"Bounce Rate\" feature for a web page refers to the percentage of visitors who enter the site from that page and then leave (\"bounce\") without triggering any other requests to the analytics server during that session.\n",
    "Exit Rate: The value of \"Exit Rate\" feature for a specific web page is calculated as for all pageviews to the page, the percentage that were the last in the session.\n",
    "\n",
    "- Page Value: The \"Page Value\" feature represents the average value for a web page that a user visited before completing an e-commerce transaction.\n",
    "\n",
    "- Special Day: The \"Special Day\" feature indicates the closeness of the site visiting time to a specific special day (e.g. Mother’s Day, Valentine's Day) in which the sessions are more likely to be finalized with transaction.\n",
    "The value of this attribute is determined by considering the dynamics of e-commerce such as the duration between the order date and delivery date.\n",
    "For example, for Valentina’s day, this value takes a nonzero value between February 2 and February 12, zero before and after this date unless it is close to another special day, and its maximum value of 1 on February 8.\n",
    "\n",
    "- The dataset also includes operating system, browser, region, traffic type, visitor type as returning or new visitor, a Boolean value indicating whether the date of the visit is weekend, and month of the year."
   ]
  },
  {
   "cell_type": "code",
   "execution_count": 3,
   "id": "2fee1eee",
   "metadata": {},
   "outputs": [
    {
     "data": {
      "text/plain": [
       "Administrative               int64\n",
       "Administrative_Duration    float64\n",
       "Informational                int64\n",
       "Informational_Duration     float64\n",
       "ProductRelated               int64\n",
       "ProductRelated_Duration    float64\n",
       "BounceRates                float64\n",
       "ExitRates                  float64\n",
       "PageValues                 float64\n",
       "SpecialDay                 float64\n",
       "Month                       object\n",
       "OperatingSystems             int64\n",
       "Browser                      int64\n",
       "Region                       int64\n",
       "TrafficType                  int64\n",
       "VisitorType                 object\n",
       "Weekend                       bool\n",
       "Revenue                       bool\n",
       "dtype: object"
      ]
     },
     "execution_count": 3,
     "metadata": {},
     "output_type": "execute_result"
    }
   ],
   "source": [
    "data.dtypes"
   ]
  },
  {
   "cell_type": "code",
   "execution_count": 5,
   "id": "88a2d50f",
   "metadata": {},
   "outputs": [
    {
     "data": {
      "text/plain": [
       "False    10422\n",
       "True      1908\n",
       "Name: Revenue, dtype: int64"
      ]
     },
     "execution_count": 5,
     "metadata": {},
     "output_type": "execute_result"
    }
   ],
   "source": [
    "data['Revenue'].value_counts()"
   ]
  },
  {
   "cell_type": "markdown",
   "id": "fa3d1c9a",
   "metadata": {},
   "source": [
    "\n",
    "Numerical Data\n",
    "\n",
    "Admin, Informational, Product Related + Durations\n",
    "\n",
    "Bounce and Exit Rates\n",
    "\n",
    "Page Values - mostly 0, so may be dropped?\n",
    "\n",
    "Special Day\n",
    "\n",
    "\n",
    "\n",
    "Categorical Data\n",
    "\n",
    "Month - 12\n",
    "OS - 8\n",
    "Browser - 13\n",
    "Region - 9\n",
    "Traffic - 20\n",
    "Visitor - 3\n",
    "Weekend - 2\n",
    "\n",
    "\n",
    "\n",
    "Therefore One hot encoding produces a rather sparse matrix"
   ]
  },
  {
   "cell_type": "markdown",
   "id": "e6d56134",
   "metadata": {},
   "source": [
    "# EDA"
   ]
  },
  {
   "cell_type": "code",
   "execution_count": 6,
   "id": "b52c6aa3",
   "metadata": {},
   "outputs": [],
   "source": [
    "from matplotlib import pyplot as plt"
   ]
  },
  {
   "cell_type": "code",
   "execution_count": 15,
   "id": "1f76f8fc",
   "metadata": {},
   "outputs": [
    {
     "data": {
      "text/html": [
       "<div>\n",
       "<style scoped>\n",
       "    .dataframe tbody tr th:only-of-type {\n",
       "        vertical-align: middle;\n",
       "    }\n",
       "\n",
       "    .dataframe tbody tr th {\n",
       "        vertical-align: top;\n",
       "    }\n",
       "\n",
       "    .dataframe thead th {\n",
       "        text-align: right;\n",
       "    }\n",
       "</style>\n",
       "<table border=\"1\" class=\"dataframe\">\n",
       "  <thead>\n",
       "    <tr style=\"text-align: right;\">\n",
       "      <th></th>\n",
       "      <th>Administrative</th>\n",
       "      <th>Administrative_Duration</th>\n",
       "      <th>Informational</th>\n",
       "      <th>Informational_Duration</th>\n",
       "      <th>ProductRelated</th>\n",
       "      <th>ProductRelated_Duration</th>\n",
       "      <th>BounceRates</th>\n",
       "      <th>ExitRates</th>\n",
       "      <th>PageValues</th>\n",
       "      <th>SpecialDay</th>\n",
       "      <th>OperatingSystems</th>\n",
       "      <th>Browser</th>\n",
       "      <th>Region</th>\n",
       "      <th>TrafficType</th>\n",
       "    </tr>\n",
       "  </thead>\n",
       "  <tbody>\n",
       "    <tr>\n",
       "      <th>count</th>\n",
       "      <td>12330.000000</td>\n",
       "      <td>12330.000000</td>\n",
       "      <td>12330.000000</td>\n",
       "      <td>12330.000000</td>\n",
       "      <td>12330.000000</td>\n",
       "      <td>12330.000000</td>\n",
       "      <td>12330.000000</td>\n",
       "      <td>12330.000000</td>\n",
       "      <td>12330.000000</td>\n",
       "      <td>12330.000000</td>\n",
       "      <td>12330.000000</td>\n",
       "      <td>12330.000000</td>\n",
       "      <td>12330.000000</td>\n",
       "      <td>12330.000000</td>\n",
       "    </tr>\n",
       "    <tr>\n",
       "      <th>mean</th>\n",
       "      <td>2.315166</td>\n",
       "      <td>80.818611</td>\n",
       "      <td>0.503569</td>\n",
       "      <td>34.472398</td>\n",
       "      <td>31.731468</td>\n",
       "      <td>1194.746220</td>\n",
       "      <td>0.022191</td>\n",
       "      <td>0.043073</td>\n",
       "      <td>5.889258</td>\n",
       "      <td>0.061427</td>\n",
       "      <td>2.124006</td>\n",
       "      <td>2.357097</td>\n",
       "      <td>3.147364</td>\n",
       "      <td>4.069586</td>\n",
       "    </tr>\n",
       "    <tr>\n",
       "      <th>std</th>\n",
       "      <td>3.321784</td>\n",
       "      <td>176.779107</td>\n",
       "      <td>1.270156</td>\n",
       "      <td>140.749294</td>\n",
       "      <td>44.475503</td>\n",
       "      <td>1913.669288</td>\n",
       "      <td>0.048488</td>\n",
       "      <td>0.048597</td>\n",
       "      <td>18.568437</td>\n",
       "      <td>0.198917</td>\n",
       "      <td>0.911325</td>\n",
       "      <td>1.717277</td>\n",
       "      <td>2.401591</td>\n",
       "      <td>4.025169</td>\n",
       "    </tr>\n",
       "    <tr>\n",
       "      <th>min</th>\n",
       "      <td>0.000000</td>\n",
       "      <td>0.000000</td>\n",
       "      <td>0.000000</td>\n",
       "      <td>0.000000</td>\n",
       "      <td>0.000000</td>\n",
       "      <td>0.000000</td>\n",
       "      <td>0.000000</td>\n",
       "      <td>0.000000</td>\n",
       "      <td>0.000000</td>\n",
       "      <td>0.000000</td>\n",
       "      <td>1.000000</td>\n",
       "      <td>1.000000</td>\n",
       "      <td>1.000000</td>\n",
       "      <td>1.000000</td>\n",
       "    </tr>\n",
       "    <tr>\n",
       "      <th>25%</th>\n",
       "      <td>0.000000</td>\n",
       "      <td>0.000000</td>\n",
       "      <td>0.000000</td>\n",
       "      <td>0.000000</td>\n",
       "      <td>7.000000</td>\n",
       "      <td>184.137500</td>\n",
       "      <td>0.000000</td>\n",
       "      <td>0.014286</td>\n",
       "      <td>0.000000</td>\n",
       "      <td>0.000000</td>\n",
       "      <td>2.000000</td>\n",
       "      <td>2.000000</td>\n",
       "      <td>1.000000</td>\n",
       "      <td>2.000000</td>\n",
       "    </tr>\n",
       "    <tr>\n",
       "      <th>50%</th>\n",
       "      <td>1.000000</td>\n",
       "      <td>7.500000</td>\n",
       "      <td>0.000000</td>\n",
       "      <td>0.000000</td>\n",
       "      <td>18.000000</td>\n",
       "      <td>598.936905</td>\n",
       "      <td>0.003112</td>\n",
       "      <td>0.025156</td>\n",
       "      <td>0.000000</td>\n",
       "      <td>0.000000</td>\n",
       "      <td>2.000000</td>\n",
       "      <td>2.000000</td>\n",
       "      <td>3.000000</td>\n",
       "      <td>2.000000</td>\n",
       "    </tr>\n",
       "    <tr>\n",
       "      <th>75%</th>\n",
       "      <td>4.000000</td>\n",
       "      <td>93.256250</td>\n",
       "      <td>0.000000</td>\n",
       "      <td>0.000000</td>\n",
       "      <td>38.000000</td>\n",
       "      <td>1464.157214</td>\n",
       "      <td>0.016813</td>\n",
       "      <td>0.050000</td>\n",
       "      <td>0.000000</td>\n",
       "      <td>0.000000</td>\n",
       "      <td>3.000000</td>\n",
       "      <td>2.000000</td>\n",
       "      <td>4.000000</td>\n",
       "      <td>4.000000</td>\n",
       "    </tr>\n",
       "    <tr>\n",
       "      <th>max</th>\n",
       "      <td>27.000000</td>\n",
       "      <td>3398.750000</td>\n",
       "      <td>24.000000</td>\n",
       "      <td>2549.375000</td>\n",
       "      <td>705.000000</td>\n",
       "      <td>63973.522230</td>\n",
       "      <td>0.200000</td>\n",
       "      <td>0.200000</td>\n",
       "      <td>361.763742</td>\n",
       "      <td>1.000000</td>\n",
       "      <td>8.000000</td>\n",
       "      <td>13.000000</td>\n",
       "      <td>9.000000</td>\n",
       "      <td>20.000000</td>\n",
       "    </tr>\n",
       "  </tbody>\n",
       "</table>\n",
       "</div>"
      ],
      "text/plain": [
       "       Administrative  Administrative_Duration  Informational  \\\n",
       "count    12330.000000             12330.000000   12330.000000   \n",
       "mean         2.315166                80.818611       0.503569   \n",
       "std          3.321784               176.779107       1.270156   \n",
       "min          0.000000                 0.000000       0.000000   \n",
       "25%          0.000000                 0.000000       0.000000   \n",
       "50%          1.000000                 7.500000       0.000000   \n",
       "75%          4.000000                93.256250       0.000000   \n",
       "max         27.000000              3398.750000      24.000000   \n",
       "\n",
       "       Informational_Duration  ProductRelated  ProductRelated_Duration  \\\n",
       "count            12330.000000    12330.000000             12330.000000   \n",
       "mean                34.472398       31.731468              1194.746220   \n",
       "std                140.749294       44.475503              1913.669288   \n",
       "min                  0.000000        0.000000                 0.000000   \n",
       "25%                  0.000000        7.000000               184.137500   \n",
       "50%                  0.000000       18.000000               598.936905   \n",
       "75%                  0.000000       38.000000              1464.157214   \n",
       "max               2549.375000      705.000000             63973.522230   \n",
       "\n",
       "        BounceRates     ExitRates    PageValues    SpecialDay  \\\n",
       "count  12330.000000  12330.000000  12330.000000  12330.000000   \n",
       "mean       0.022191      0.043073      5.889258      0.061427   \n",
       "std        0.048488      0.048597     18.568437      0.198917   \n",
       "min        0.000000      0.000000      0.000000      0.000000   \n",
       "25%        0.000000      0.014286      0.000000      0.000000   \n",
       "50%        0.003112      0.025156      0.000000      0.000000   \n",
       "75%        0.016813      0.050000      0.000000      0.000000   \n",
       "max        0.200000      0.200000    361.763742      1.000000   \n",
       "\n",
       "       OperatingSystems       Browser        Region   TrafficType  \n",
       "count      12330.000000  12330.000000  12330.000000  12330.000000  \n",
       "mean           2.124006      2.357097      3.147364      4.069586  \n",
       "std            0.911325      1.717277      2.401591      4.025169  \n",
       "min            1.000000      1.000000      1.000000      1.000000  \n",
       "25%            2.000000      2.000000      1.000000      2.000000  \n",
       "50%            2.000000      2.000000      3.000000      2.000000  \n",
       "75%            3.000000      2.000000      4.000000      4.000000  \n",
       "max            8.000000     13.000000      9.000000     20.000000  "
      ]
     },
     "execution_count": 15,
     "metadata": {},
     "output_type": "execute_result"
    }
   ],
   "source": [
    "data.describe()"
   ]
  },
  {
   "cell_type": "code",
   "execution_count": 17,
   "id": "3329fc40",
   "metadata": {},
   "outputs": [
    {
     "data": {
      "text/plain": [
       "Administrative             1.960357\n",
       "Administrative_Duration    5.615719\n",
       "Informational              4.036464\n",
       "Informational_Duration     7.579185\n",
       "ProductRelated             4.341516\n",
       "ProductRelated_Duration    7.263228\n",
       "BounceRates                2.947855\n",
       "ExitRates                  2.148789\n",
       "PageValues                 6.382964\n",
       "SpecialDay                 3.302667\n",
       "OperatingSystems           2.066285\n",
       "Browser                    3.242350\n",
       "Region                     0.983549\n",
       "TrafficType                1.962987\n",
       "Weekend                    1.265962\n",
       "Revenue                    1.909509\n",
       "dtype: float64"
      ]
     },
     "execution_count": 17,
     "metadata": {},
     "output_type": "execute_result"
    }
   ],
   "source": [
    "data.skew(axis = 0)"
   ]
  },
  {
   "cell_type": "code",
   "execution_count": 18,
   "id": "0a18938e",
   "metadata": {},
   "outputs": [
    {
     "data": {
      "text/plain": [
       "Administrative               4.701146\n",
       "Administrative_Duration     50.556739\n",
       "Informational               26.932266\n",
       "Informational_Duration      76.316853\n",
       "ProductRelated              31.211707\n",
       "ProductRelated_Duration    137.174164\n",
       "BounceRates                  7.723159\n",
       "ExitRates                    4.017035\n",
       "PageValues                  65.635694\n",
       "SpecialDay                   9.913659\n",
       "OperatingSystems            10.456843\n",
       "Browser                     12.746733\n",
       "Region                      -0.148680\n",
       "TrafficType                  3.479711\n",
       "Weekend                     -0.397404\n",
       "Revenue                      1.646493\n",
       "dtype: float64"
      ]
     },
     "execution_count": 18,
     "metadata": {},
     "output_type": "execute_result"
    }
   ],
   "source": [
    "data.kurt( axis = 0)"
   ]
  },
  {
   "cell_type": "code",
   "execution_count": 19,
   "id": "abcbe9c3",
   "metadata": {},
   "outputs": [
    {
     "data": {
      "text/plain": [
       "array([[<AxesSubplot:title={'center':'Administrative'}>,\n",
       "        <AxesSubplot:title={'center':'Administrative_Duration'}>,\n",
       "        <AxesSubplot:title={'center':'Informational'}>,\n",
       "        <AxesSubplot:title={'center':'Informational_Duration'}>],\n",
       "       [<AxesSubplot:title={'center':'ProductRelated'}>,\n",
       "        <AxesSubplot:title={'center':'ProductRelated_Duration'}>,\n",
       "        <AxesSubplot:title={'center':'BounceRates'}>,\n",
       "        <AxesSubplot:title={'center':'ExitRates'}>],\n",
       "       [<AxesSubplot:title={'center':'PageValues'}>,\n",
       "        <AxesSubplot:title={'center':'SpecialDay'}>,\n",
       "        <AxesSubplot:title={'center':'OperatingSystems'}>,\n",
       "        <AxesSubplot:title={'center':'Browser'}>],\n",
       "       [<AxesSubplot:title={'center':'Region'}>,\n",
       "        <AxesSubplot:title={'center':'TrafficType'}>, <AxesSubplot:>,\n",
       "        <AxesSubplot:>]], dtype=object)"
      ]
     },
     "execution_count": 19,
     "metadata": {},
     "output_type": "execute_result"
    },
    {
     "data": {
      "image/png": "[encoded data removed]",
      "text/plain": [
       "<Figure size 1080x1080 with 16 Axes>"
      ]
     },
     "metadata": {
      "needs_background": "light"
     },
     "output_type": "display_data"
    }
   ],
   "source": [
    "data.hist(figsize = (15,15), bins = 30)"
   ]
  },
  {
   "cell_type": "markdown",
   "id": "8da35250",
   "metadata": {},
   "source": [
    "Most attributes are skewed to the right, so may cause problems with normalisation.\n",
    "However data is also heavily imbalanced so mayneed stratified training/validation split."
   ]
  },
  {
   "cell_type": "code",
   "execution_count": 12,
   "id": "1fcd7b0f",
   "metadata": {},
   "outputs": [
    {
     "data": {
      "text/plain": [
       "array([[<AxesSubplot:title={'center':'Administrative'}>,\n",
       "        <AxesSubplot:title={'center':'Administrative_Duration'}>,\n",
       "        <AxesSubplot:title={'center':'Informational'}>,\n",
       "        <AxesSubplot:title={'center':'Informational_Duration'}>],\n",
       "       [<AxesSubplot:title={'center':'ProductRelated'}>,\n",
       "        <AxesSubplot:title={'center':'ProductRelated_Duration'}>,\n",
       "        <AxesSubplot:title={'center':'BounceRates'}>,\n",
       "        <AxesSubplot:title={'center':'ExitRates'}>],\n",
       "       [<AxesSubplot:title={'center':'PageValues'}>,\n",
       "        <AxesSubplot:title={'center':'SpecialDay'}>,\n",
       "        <AxesSubplot:title={'center':'OperatingSystems'}>,\n",
       "        <AxesSubplot:title={'center':'Browser'}>],\n",
       "       [<AxesSubplot:title={'center':'Region'}>,\n",
       "        <AxesSubplot:title={'center':'TrafficType'}>, <AxesSubplot:>,\n",
       "        <AxesSubplot:>]], dtype=object)"
      ]
     },
     "execution_count": 12,
     "metadata": {},
     "output_type": "execute_result"
    },
    {
     "data": {
      "image/png": "[encoded data removed]",
      "text/plain": [
       "<Figure size 720x720 with 16 Axes>"
      ]
     },
     "metadata": {
      "needs_background": "light"
     },
     "output_type": "display_data"
    }
   ],
   "source": [
    "data.hist(figsize = (10,10), bins = 30)"
   ]
  },
  {
   "cell_type": "code",
   "execution_count": 13,
   "id": "bd312036",
   "metadata": {},
   "outputs": [],
   "source": [
    "# Splitting into positive and negative purchase dataframes to try to investigate \n",
    "# similarities/differences in features\n",
    "mask = data['Revenue'] == 0\n",
    "data_neg = data[mask]\n",
    "data_pos = data[~mask]\n"
   ]
  },
  {
   "cell_type": "code",
   "execution_count": 34,
   "id": "258e343e",
   "metadata": {},
   "outputs": [
    {
     "data": {
      "text/plain": [
       "(array([[205.,  62.,  33.,  10.,   3.,   4.,   2.],\n",
       "        [387., 235., 105.,  51.,  33.,   9.,  15.]]),\n",
       " array([ 20,  40,  60,  80, 100, 120, 140, 200]),\n",
       " <a list of 2 BarContainer objects>)"
      ]
     },
     "execution_count": 34,
     "metadata": {},
     "output_type": "execute_result"
    },
    {
     "data": {
      "image/png": "[encoded data removed]",
      "text/plain": [
       "<Figure size 432x288 with 1 Axes>"
      ]
     },
     "metadata": {
      "needs_background": "light"
     },
     "output_type": "display_data"
    }
   ],
   "source": [
    "# Interestingly PageValues higher than 0 are more indicative of positive purchase class (orange)\n",
    "plt.hist([data_neg['PageValues'], data_pos['PageValues']], bins = [20,40,60,80,100,120,140, 200])"
   ]
  },
  {
   "cell_type": "code",
   "execution_count": 20,
   "id": "d32c73bf",
   "metadata": {},
   "outputs": [
    {
     "name": "stdout",
     "output_type": "stream",
     "text": [
      "Administrative\n"
     ]
    },
    {
     "data": {
      "image/png": "[encoded data removed]",
      "text/plain": [
       "<Figure size 432x288 with 1 Axes>"
      ]
     },
     "metadata": {
      "needs_background": "light"
     },
     "output_type": "display_data"
    },
    {
     "name": "stdout",
     "output_type": "stream",
     "text": [
      "Administrative_Duration\n"
     ]
    },
    {
     "data": {
      "image/png": "[encoded data removed]",
      "text/plain": [
       "<Figure size 432x288 with 1 Axes>"
      ]
     },
     "metadata": {
      "needs_background": "light"
     },
     "output_type": "display_data"
    },
    {
     "name": "stdout",
     "output_type": "stream",
     "text": [
      "Informational\n"
     ]
    },
    {
     "data": {
      "image/png": "[encoded data removed]",
      "text/plain": [
       "<Figure size 432x288 with 1 Axes>"
      ]
     },
     "metadata": {
      "needs_background": "light"
     },
     "output_type": "display_data"
    },
    {
     "name": "stdout",
     "output_type": "stream",
     "text": [
      "Informational_Duration\n"
     ]
    },
    {
     "data": {
      "image/png": "[encoded data removed]",
      "text/plain": [
       "<Figure size 432x288 with 1 Axes>"
      ]
     },
     "metadata": {
      "needs_background": "light"
     },
     "output_type": "display_data"
    },
    {
     "name": "stdout",
     "output_type": "stream",
     "text": [
      "ProductRelated\n"
     ]
    },
    {
     "data": {
      "image/png": "[encoded data removed]",
      "text/plain": [
       "<Figure size 432x288 with 1 Axes>"
      ]
     },
     "metadata": {
      "needs_background": "light"
     },
     "output_type": "display_data"
    },
    {
     "name": "stdout",
     "output_type": "stream",
     "text": [
      "ProductRelated_Duration\n"
     ]
    },
    {
     "data": {
      "image/png": "[encoded data removed]",
      "text/plain": [
       "<Figure size 432x288 with 1 Axes>"
      ]
     },
     "metadata": {
      "needs_background": "light"
     },
     "output_type": "display_data"
    },
    {
     "name": "stdout",
     "output_type": "stream",
     "text": [
      "BounceRates\n"
     ]
    },
    {
     "data": {
      "image/png": "[encoded data removed]",
      "text/plain": [
       "<Figure size 432x288 with 1 Axes>"
      ]
     },
     "metadata": {
      "needs_background": "light"
     },
     "output_type": "display_data"
    },
    {
     "name": "stdout",
     "output_type": "stream",
     "text": [
      "ExitRates\n"
     ]
    },
    {
     "data": {
      "image/png": "[encoded data removed]",
      "text/plain": [
       "<Figure size 432x288 with 1 Axes>"
      ]
     },
     "metadata": {
      "needs_background": "light"
     },
     "output_type": "display_data"
    },
    {
     "name": "stdout",
     "output_type": "stream",
     "text": [
      "PageValues\n"
     ]
    },
    {
     "data": {
      "image/png": "[encoded data removed]",
      "text/plain": [
       "<Figure size 432x288 with 1 Axes>"
      ]
     },
     "metadata": {
      "needs_background": "light"
     },
     "output_type": "display_data"
    },
    {
     "name": "stdout",
     "output_type": "stream",
     "text": [
      "SpecialDay\n"
     ]
    },
    {
     "data": {
      "image/png": "[encoded data removed]",
      "text/plain": [
       "<Figure size 432x288 with 1 Axes>"
      ]
     },
     "metadata": {
      "needs_background": "light"
     },
     "output_type": "display_data"
    },
    {
     "name": "stdout",
     "output_type": "stream",
     "text": [
      "Month\n"
     ]
    },
    {
     "data": {
      "image/png": "[encoded data removed]",
      "text/plain": [
       "<Figure size 432x288 with 1 Axes>"
      ]
     },
     "metadata": {
      "needs_background": "light"
     },
     "output_type": "display_data"
    },
    {
     "name": "stdout",
     "output_type": "stream",
     "text": [
      "OperatingSystems\n"
     ]
    },
    {
     "data": {
      "image/png": "[encoded data removed]",
      "text/plain": [
       "<Figure size 432x288 with 1 Axes>"
      ]
     },
     "metadata": {
      "needs_background": "light"
     },
     "output_type": "display_data"
    },
    {
     "name": "stdout",
     "output_type": "stream",
     "text": [
      "Browser\n"
     ]
    },
    {
     "data": {
      "image/png": "[encoded data removed]",
      "text/plain": [
       "<Figure size 432x288 with 1 Axes>"
      ]
     },
     "metadata": {
      "needs_background": "light"
     },
     "output_type": "display_data"
    },
    {
     "name": "stdout",
     "output_type": "stream",
     "text": [
      "Region\n"
     ]
    },
    {
     "data": {
      "image/png": "[encoded data removed]",
      "text/plain": [
       "<Figure size 432x288 with 1 Axes>"
      ]
     },
     "metadata": {
      "needs_background": "light"
     },
     "output_type": "display_data"
    },
    {
     "name": "stdout",
     "output_type": "stream",
     "text": [
      "TrafficType\n"
     ]
    },
    {
     "data": {
      "image/png": "[encoded data removed]",
      "text/plain": [
       "<Figure size 432x288 with 1 Axes>"
      ]
     },
     "metadata": {
      "needs_background": "light"
     },
     "output_type": "display_data"
    },
    {
     "name": "stdout",
     "output_type": "stream",
     "text": [
      "VisitorType\n"
     ]
    },
    {
     "data": {
      "image/png": "[encoded data removed]",
      "text/plain": [
       "<Figure size 432x288 with 1 Axes>"
      ]
     },
     "metadata": {
      "needs_background": "light"
     },
     "output_type": "display_data"
    },
    {
     "name": "stdout",
     "output_type": "stream",
     "text": [
      "Weekend\n"
     ]
    },
    {
     "name": "stderr",
     "output_type": "stream",
     "text": [
      "<__array_function__ internals>:5: RuntimeWarning: Converting input from bool to <class 'numpy.uint8'> for compatibility.\n",
      "<__array_function__ internals>:5: RuntimeWarning: Converting input from bool to <class 'numpy.uint8'> for compatibility.\n"
     ]
    },
    {
     "data": {
      "image/png": "[encoded data removed]",
      "text/plain": [
       "<Figure size 432x288 with 1 Axes>"
      ]
     },
     "metadata": {
      "needs_background": "light"
     },
     "output_type": "display_data"
    }
   ],
   "source": [
    "for i in range(0, data.shape[1] - 1):\n",
    "    print(data.columns[i])\n",
    "    plt.figure()\n",
    "    plt.hist([\n",
    "        data_neg.iloc[:,i], data_pos.iloc[:,i]\n",
    "    ], bins = 50)\n",
    "    plt.show()\n",
    "    "
   ]
  },
  {
   "cell_type": "markdown",
   "id": "d631029a",
   "metadata": {},
   "source": [
    "Even though there is an imbalance in data, it seems that the data is distributed somewhat similarly at a glance.\n",
    "Let's check for outliers in both positive and negative cases."
   ]
  },
  {
   "cell_type": "code",
   "execution_count": 54,
   "id": "21c7b861",
   "metadata": {},
   "outputs": [
    {
     "data": {
      "text/plain": [
       "(0.0, 40000.0)"
      ]
     },
     "execution_count": 54,
     "metadata": {},
     "output_type": "execute_result"
    },
    {
     "data": {
      "image/png": "[encoded data removed]",
      "text/plain": [
       "<Figure size 720x720 with 2 Axes>"
      ]
     },
     "metadata": {
      "needs_background": "light"
     },
     "output_type": "display_data"
    },
    {
     "data": {
      "image/png": "[encoded data removed]",
      "text/plain": [
       "<Figure size 720x720 with 4 Axes>"
      ]
     },
     "metadata": {
      "needs_background": "light"
     },
     "output_type": "display_data"
    }
   ],
   "source": [
    "data.loc[:,('Administrative', 'Informational','Revenue')].boxplot(figsize = (10,10),by = \"Revenue\")"
   ]
  },
  {
   "cell_type": "code",
   "execution_count": 59,
   "id": "ac09dae3",
   "metadata": {},
   "outputs": [
    {
     "data": {
      "text/plain": [
       "array([<AxesSubplot:title={'center':'Administrative_Duration'}, xlabel='[Revenue]'>,\n",
       "       <AxesSubplot:title={'center':'Informational_Duration'}, xlabel='[Revenue]'>],\n",
       "      dtype=object)"
      ]
     },
     "execution_count": 59,
     "metadata": {},
     "output_type": "execute_result"
    },
    {
     "data": {
      "image/png": "[encoded data removed]",
      "text/plain": [
       "<Figure size 720x720 with 2 Axes>"
      ]
     },
     "metadata": {
      "needs_background": "light"
     },
     "output_type": "display_data"
    }
   ],
   "source": [
    "data.loc[:,('Administrative_Duration', 'Informational_Duration','Revenue')].boxplot(figsize = (10,10),by = \"Revenue\")\n"
   ]
  },
  {
   "cell_type": "markdown",
   "id": "5daf67c7",
   "metadata": {},
   "source": [
    "From comparing the succesful and other purchases it seems that there is some meaningful differences, especially in attributes such a Month (more purchases in November)."
   ]
  },
  {
   "cell_type": "code",
   "execution_count": 22,
   "id": "0f2aea7b",
   "metadata": {},
   "outputs": [],
   "source": [
    "# Select numerical only features for correlations\n",
    "num_feat = ['Administrative','Administrative_Duration','Informational','Informational_Duration',\n",
    "            'ProductRelated','ProductRelated_Duration','BounceRates','ExitRates','PageValues']"
   ]
  },
  {
   "cell_type": "code",
   "execution_count": 24,
   "id": "8c8c9351",
   "metadata": {},
   "outputs": [
    {
     "data": {
      "text/html": [
       "<div>\n",
       "<style scoped>\n",
       "    .dataframe tbody tr th:only-of-type {\n",
       "        vertical-align: middle;\n",
       "    }\n",
       "\n",
       "    .dataframe tbody tr th {\n",
       "        vertical-align: top;\n",
       "    }\n",
       "\n",
       "    .dataframe thead th {\n",
       "        text-align: right;\n",
       "    }\n",
       "</style>\n",
       "<table border=\"1\" class=\"dataframe\">\n",
       "  <thead>\n",
       "    <tr style=\"text-align: right;\">\n",
       "      <th></th>\n",
       "      <th>Administrative</th>\n",
       "      <th>Administrative_Duration</th>\n",
       "      <th>Informational</th>\n",
       "      <th>Informational_Duration</th>\n",
       "      <th>ProductRelated</th>\n",
       "      <th>ProductRelated_Duration</th>\n",
       "      <th>BounceRates</th>\n",
       "      <th>ExitRates</th>\n",
       "      <th>PageValues</th>\n",
       "    </tr>\n",
       "  </thead>\n",
       "  <tbody>\n",
       "    <tr>\n",
       "      <th>Administrative</th>\n",
       "      <td>1.000000</td>\n",
       "      <td>0.601583</td>\n",
       "      <td>0.376850</td>\n",
       "      <td>0.255848</td>\n",
       "      <td>0.431119</td>\n",
       "      <td>0.373939</td>\n",
       "      <td>-0.223563</td>\n",
       "      <td>-0.316483</td>\n",
       "      <td>0.098990</td>\n",
       "    </tr>\n",
       "    <tr>\n",
       "      <th>Administrative_Duration</th>\n",
       "      <td>0.601583</td>\n",
       "      <td>1.000000</td>\n",
       "      <td>0.302710</td>\n",
       "      <td>0.238031</td>\n",
       "      <td>0.289087</td>\n",
       "      <td>0.355422</td>\n",
       "      <td>-0.144170</td>\n",
       "      <td>-0.205798</td>\n",
       "      <td>0.067608</td>\n",
       "    </tr>\n",
       "    <tr>\n",
       "      <th>Informational</th>\n",
       "      <td>0.376850</td>\n",
       "      <td>0.302710</td>\n",
       "      <td>1.000000</td>\n",
       "      <td>0.618955</td>\n",
       "      <td>0.374164</td>\n",
       "      <td>0.387505</td>\n",
       "      <td>-0.116114</td>\n",
       "      <td>-0.163666</td>\n",
       "      <td>0.048632</td>\n",
       "    </tr>\n",
       "    <tr>\n",
       "      <th>Informational_Duration</th>\n",
       "      <td>0.255848</td>\n",
       "      <td>0.238031</td>\n",
       "      <td>0.618955</td>\n",
       "      <td>1.000000</td>\n",
       "      <td>0.280046</td>\n",
       "      <td>0.347364</td>\n",
       "      <td>-0.074067</td>\n",
       "      <td>-0.105276</td>\n",
       "      <td>0.030861</td>\n",
       "    </tr>\n",
       "    <tr>\n",
       "      <th>ProductRelated</th>\n",
       "      <td>0.431119</td>\n",
       "      <td>0.289087</td>\n",
       "      <td>0.374164</td>\n",
       "      <td>0.280046</td>\n",
       "      <td>1.000000</td>\n",
       "      <td>0.860927</td>\n",
       "      <td>-0.204578</td>\n",
       "      <td>-0.292526</td>\n",
       "      <td>0.056282</td>\n",
       "    </tr>\n",
       "    <tr>\n",
       "      <th>ProductRelated_Duration</th>\n",
       "      <td>0.373939</td>\n",
       "      <td>0.355422</td>\n",
       "      <td>0.387505</td>\n",
       "      <td>0.347364</td>\n",
       "      <td>0.860927</td>\n",
       "      <td>1.000000</td>\n",
       "      <td>-0.184541</td>\n",
       "      <td>-0.251984</td>\n",
       "      <td>0.052823</td>\n",
       "    </tr>\n",
       "    <tr>\n",
       "      <th>BounceRates</th>\n",
       "      <td>-0.223563</td>\n",
       "      <td>-0.144170</td>\n",
       "      <td>-0.116114</td>\n",
       "      <td>-0.074067</td>\n",
       "      <td>-0.204578</td>\n",
       "      <td>-0.184541</td>\n",
       "      <td>1.000000</td>\n",
       "      <td>0.913004</td>\n",
       "      <td>-0.119386</td>\n",
       "    </tr>\n",
       "    <tr>\n",
       "      <th>ExitRates</th>\n",
       "      <td>-0.316483</td>\n",
       "      <td>-0.205798</td>\n",
       "      <td>-0.163666</td>\n",
       "      <td>-0.105276</td>\n",
       "      <td>-0.292526</td>\n",
       "      <td>-0.251984</td>\n",
       "      <td>0.913004</td>\n",
       "      <td>1.000000</td>\n",
       "      <td>-0.174498</td>\n",
       "    </tr>\n",
       "    <tr>\n",
       "      <th>PageValues</th>\n",
       "      <td>0.098990</td>\n",
       "      <td>0.067608</td>\n",
       "      <td>0.048632</td>\n",
       "      <td>0.030861</td>\n",
       "      <td>0.056282</td>\n",
       "      <td>0.052823</td>\n",
       "      <td>-0.119386</td>\n",
       "      <td>-0.174498</td>\n",
       "      <td>1.000000</td>\n",
       "    </tr>\n",
       "  </tbody>\n",
       "</table>\n",
       "</div>"
      ],
      "text/plain": [
       "                         Administrative  Administrative_Duration  \\\n",
       "Administrative                 1.000000                 0.601583   \n",
       "Administrative_Duration        0.601583                 1.000000   \n",
       "Informational                  0.376850                 0.302710   \n",
       "Informational_Duration         0.255848                 0.238031   \n",
       "ProductRelated                 0.431119                 0.289087   \n",
       "ProductRelated_Duration        0.373939                 0.355422   \n",
       "BounceRates                   -0.223563                -0.144170   \n",
       "ExitRates                     -0.316483                -0.205798   \n",
       "PageValues                     0.098990                 0.067608   \n",
       "\n",
       "                         Informational  Informational_Duration  \\\n",
       "Administrative                0.376850                0.255848   \n",
       "Administrative_Duration       0.302710                0.238031   \n",
       "Informational                 1.000000                0.618955   \n",
       "Informational_Duration        0.618955                1.000000   \n",
       "ProductRelated                0.374164                0.280046   \n",
       "ProductRelated_Duration       0.387505                0.347364   \n",
       "BounceRates                  -0.116114               -0.074067   \n",
       "ExitRates                    -0.163666               -0.105276   \n",
       "PageValues                    0.048632                0.030861   \n",
       "\n",
       "                         ProductRelated  ProductRelated_Duration  BounceRates  \\\n",
       "Administrative                 0.431119                 0.373939    -0.223563   \n",
       "Administrative_Duration        0.289087                 0.355422    -0.144170   \n",
       "Informational                  0.374164                 0.387505    -0.116114   \n",
       "Informational_Duration         0.280046                 0.347364    -0.074067   \n",
       "ProductRelated                 1.000000                 0.860927    -0.204578   \n",
       "ProductRelated_Duration        0.860927                 1.000000    -0.184541   \n",
       "BounceRates                   -0.204578                -0.184541     1.000000   \n",
       "ExitRates                     -0.292526                -0.251984     0.913004   \n",
       "PageValues                     0.056282                 0.052823    -0.119386   \n",
       "\n",
       "                         ExitRates  PageValues  \n",
       "Administrative           -0.316483    0.098990  \n",
       "Administrative_Duration  -0.205798    0.067608  \n",
       "Informational            -0.163666    0.048632  \n",
       "Informational_Duration   -0.105276    0.030861  \n",
       "ProductRelated           -0.292526    0.056282  \n",
       "ProductRelated_Duration  -0.251984    0.052823  \n",
       "BounceRates               0.913004   -0.119386  \n",
       "ExitRates                 1.000000   -0.174498  \n",
       "PageValues               -0.174498    1.000000  "
      ]
     },
     "execution_count": 24,
     "metadata": {},
     "output_type": "execute_result"
    }
   ],
   "source": [
    "data[num_feat].corr()"
   ]
  },
  {
   "cell_type": "markdown",
   "id": "006f2217",
   "metadata": {},
   "source": [
    "As expected, some correlation between visits and durations, \n",
    "but nothing that would imply we can remove some features due to redundancy"
   ]
  },
  {
   "cell_type": "markdown",
   "id": "de32bd2b",
   "metadata": {},
   "source": [
    "# Cleaning"
   ]
  },
  {
   "cell_type": "markdown",
   "id": "a2c6d582",
   "metadata": {},
   "source": [
    "There are thankfully no missing values and most of data seems to be consistent. We need to scale the data better so Machine Learning Algorithms perform better. Since the data has right skewness across both classes and we have plenty of data, it is better to check for Normal Distribution, and for Log Normal Distribution"
   ]
  },
  {
   "cell_type": "code",
   "execution_count": 65,
   "id": "98d7ce9a",
   "metadata": {},
   "outputs": [
    {
     "name": "stdout",
     "output_type": "stream",
     "text": [
      "False\n",
      "False\n",
      "False\n",
      "False\n",
      "False\n",
      "False\n",
      "False\n",
      "False\n",
      "False\n"
     ]
    }
   ],
   "source": [
    "# Use shapiro-wilks test for normality\n",
    "from scipy.stats import shapiro\n",
    "for i in num_feat:\n",
    "    result = shapiro(data.loc[:,i])\n",
    "    print(result[1]>0.05)"
   ]
  },
  {
   "cell_type": "markdown",
   "id": "fc73285a",
   "metadata": {},
   "source": [
    "Data not normally distributed, so try log transformation followed by shapiro test for log normality."
   ]
  },
  {
   "cell_type": "code",
   "execution_count": 67,
   "id": "7dc14909",
   "metadata": {},
   "outputs": [
    {
     "name": "stdout",
     "output_type": "stream",
     "text": [
      "False\n",
      "False\n",
      "False\n",
      "False\n",
      "False\n",
      "False\n",
      "False\n",
      "False\n",
      "False\n"
     ]
    }
   ],
   "source": [
    "for i in num_feat:\n",
    "    # Add small value (1) to everything to avoid log(0) errors\n",
    "    result = shapiro(np.log(data.loc[:,i] + 1))\n",
    "    print(result[1]>0.05)"
   ]
  },
  {
   "cell_type": "markdown",
   "id": "f993f636",
   "metadata": {},
   "source": [
    "So data is not log normal, hence for transformation just Normalize numerical features. Categorical features will be one hot encoded."
   ]
  },
  {
   "cell_type": "code",
   "execution_count": 72,
   "id": "d0866166",
   "metadata": {},
   "outputs": [],
   "source": [
    "from sklearn.compose import make_column_selector as selector\n",
    "from sklearn.preprocessing import OneHotEncoder, StandardScaler\n",
    "from sklearn.compose import ColumnTransformer"
   ]
  },
  {
   "cell_type": "code",
   "execution_count": 74,
   "id": "c6e4cfbc",
   "metadata": {},
   "outputs": [],
   "source": [
    "# Splitting data into attributes and target\n",
    "\n",
    "X = data.iloc[:,:-1]\n",
    "# Y is already bool dtype\n",
    "Y = data.iloc[:,-1]"
   ]
  },
  {
   "cell_type": "code",
   "execution_count": 75,
   "id": "618da901",
   "metadata": {},
   "outputs": [],
   "source": [
    "\n",
    "numerical_columns_selector = selector(dtype_exclude=object)\n",
    "categorical_columns_selector = selector(dtype_include=object)\n",
    "# Subsetting columns\n",
    "numerical_columns = numerical_columns_selector(X)\n",
    "categorical_columns = categorical_columns_selector(X)\n",
    "# Selecting transformations\n",
    "categorical_preprocessor = OneHotEncoder(handle_unknown=\"ignore\")\n",
    "numerical_preprocessor = StandardScaler()"
   ]
  },
  {
   "cell_type": "code",
   "execution_count": 76,
   "id": "3143512a",
   "metadata": {},
   "outputs": [],
   "source": [
    "# Associating trasnfroemrs with respective features\n",
    "preprocessor = ColumnTransformer([\n",
    "    ('one-hot-encoder', categorical_preprocessor, categorical_columns),\n",
    "    ('standard_scaler', numerical_preprocessor, numerical_columns)])"
   ]
  },
  {
   "cell_type": "markdown",
   "id": "295e70e2",
   "metadata": {},
   "source": [
    "With pipeline built it is time for modeling"
   ]
  },
  {
   "cell_type": "markdown",
   "id": "6c5298ce",
   "metadata": {},
   "source": [
    "# Modeling"
   ]
  },
  {
   "cell_type": "markdown",
   "id": "9af8d509",
   "metadata": {},
   "source": [
    "My approach is to go from more interpretable models to ones with higher predictive power. We will start with logistic Regression as it is a good baseline."
   ]
  },
  {
   "cell_type": "code",
   "execution_count": 79,
   "id": "d53693af",
   "metadata": {},
   "outputs": [],
   "source": [
    "from sklearn.linear_model import LogisticRegression\n",
    "from sklearn.pipeline import make_pipeline\n",
    "\n",
    "# Baseline model, data is piped into it\n",
    "model1 = make_pipeline(preprocessor, LogisticRegression(max_iter=1000, fit_intercept = True))"
   ]
  },
  {
   "cell_type": "code",
   "execution_count": 80,
   "id": "ffc6f74c",
   "metadata": {},
   "outputs": [],
   "source": [
    "# Splitting data into train and validation sets\n",
    "# Random state for results reproducibility\n",
    "X_train, X_val, Y_train, Y_val = train_test_split(X, Y,random_state = 237, stratify = Y)"
   ]
  },
  {
   "cell_type": "code",
   "execution_count": 82,
   "id": "f1ce5d0d",
   "metadata": {},
   "outputs": [
    {
     "data": {
      "text/plain": [
       "0.882906260136231"
      ]
     },
     "execution_count": 82,
     "metadata": {},
     "output_type": "execute_result"
    }
   ],
   "source": [
    "model1.fit(X_train, Y_train)\n",
    "model1.score(X_val, Y_val)"
   ]
  },
  {
   "cell_type": "markdown",
   "id": "b241b0b8",
   "metadata": {},
   "source": [
    "Pretty good result, let's try a cross validation to ensure it generalizes well."
   ]
  },
  {
   "cell_type": "code",
   "execution_count": 94,
   "id": "576ea0a7",
   "metadata": {},
   "outputs": [],
   "source": [
    "# Making use of stratified K-fold to keep imbalances in data\n",
    "from sklearn.model_selection import StratifiedKFold, cross_val_score\n",
    "\n",
    "\n",
    "scv = StratifiedKFold(n_splits = 10, shuffle = True, random_state = 237)\n",
    "score = cross_val_score(model1, X, Y)"
   ]
  },
  {
   "cell_type": "code",
   "execution_count": 97,
   "id": "11b08dc8",
   "metadata": {},
   "outputs": [
    {
     "data": {
      "text/plain": [
       "0.8824006488240064"
      ]
     },
     "execution_count": 97,
     "metadata": {},
     "output_type": "execute_result"
    }
   ],
   "source": [
    "score.mean()"
   ]
  },
  {
   "cell_type": "markdown",
   "id": "f58729f3",
   "metadata": {},
   "source": [
    "Model seems to generalize well, score of 88% seems reasonable"
   ]
  },
  {
   "cell_type": "code",
   "execution_count": 105,
   "id": "b1b07e7b",
   "metadata": {},
   "outputs": [],
   "source": [
    "feature_weights = pd.DataFrame(model1[1].coef_)"
   ]
  },
  {
   "cell_type": "markdown",
   "id": "a0429446",
   "metadata": {},
   "source": [
    "Logistic Regression is performing pretty good, so let's try slightly changing parameters of Logstic Regression which is aimed at imbalanced classes."
   ]
  },
  {
   "cell_type": "code",
   "execution_count": 115,
   "id": "c39c85cc",
   "metadata": {},
   "outputs": [],
   "source": [
    "model2 = make_pipeline(preprocessor, LogisticRegression(max_iter=1000, fit_intercept = True, class_weight = 'Balanced'))"
   ]
  },
  {
   "cell_type": "code",
   "execution_count": 117,
   "id": "d4989ca6",
   "metadata": {},
   "outputs": [
    {
     "data": {
      "text/plain": [
       "0.8819331819656179"
      ]
     },
     "execution_count": 117,
     "metadata": {},
     "output_type": "execute_result"
    }
   ],
   "source": [
    "X_train, X_val, Y_train, Y_val = train_test_split(X, Y,random_state = 237, stratify = Y)\n",
    "model2.fit(X_train, Y_train)\n",
    "model2.score(X_val, Y_val)"
   ]
  },
  {
   "cell_type": "code",
   "execution_count": 119,
   "id": "42cc2a4a",
   "metadata": {},
   "outputs": [
    {
     "data": {
      "text/plain": [
       "0.8824006488240064"
      ]
     },
     "execution_count": 119,
     "metadata": {},
     "output_type": "execute_result"
    }
   ],
   "source": [
    "scv = StratifiedKFold(n_splits = 10, shuffle = True, random_state = 237)\n",
    "score = cross_val_score(model2, X, Y)\n",
    "score.mean()"
   ]
  },
  {
   "cell_type": "markdown",
   "id": "c02811c0",
   "metadata": {},
   "source": [
    "Similar results, seems a little strange. Let's try using a more powerful method of Random Forests, which can help to tackle the issue of imbalance in datasets and help to identify most important features"
   ]
  },
  {
   "cell_type": "code",
   "execution_count": 123,
   "id": "c083abfb",
   "metadata": {},
   "outputs": [
    {
     "data": {
      "text/plain": [
       "0.9020434641582874"
      ]
     },
     "execution_count": 123,
     "metadata": {},
     "output_type": "execute_result"
    }
   ],
   "source": [
    "from sklearn.ensemble import RandomForestClassifier\n",
    "\n",
    "model3 = make_pipeline(preprocessor, RandomForestClassifier(class_weight = 'balanced'))\n",
    "model3.fit(X_train, Y_train)\n",
    "model3.score(X_val, Y_val)"
   ]
  },
  {
   "cell_type": "code",
   "execution_count": 124,
   "id": "2873e0e5",
   "metadata": {},
   "outputs": [
    {
     "data": {
      "text/plain": [
       "0.8959448499594485"
      ]
     },
     "execution_count": 124,
     "metadata": {},
     "output_type": "execute_result"
    }
   ],
   "source": [
    "score = cross_val_score(model3, X, Y)\n",
    "score.mean()"
   ]
  },
  {
   "cell_type": "markdown",
   "id": "b133ef05",
   "metadata": {},
   "source": [
    "Already a slight accuracy increase, let's do more hyperparameter tuning using random search and gridsearch."
   ]
  },
  {
   "cell_type": "code",
   "execution_count": 138,
   "id": "818f7375",
   "metadata": {},
   "outputs": [
    {
     "name": "stdout",
     "output_type": "stream",
     "text": [
      "Fitting 5 folds for each of 20 candidates, totalling 100 fits\n",
      "[CV] END randomforestclassifier__criterion=gini, randomforestclassifier__max_depth=2, randomforestclassifier__max_features=sqrt, randomforestclassifier__min_samples_split=4, randomforestclassifier__n_estimators=10; total time=   0.0s\n",
      "[CV] END randomforestclassifier__criterion=gini, randomforestclassifier__max_depth=2, randomforestclassifier__max_features=sqrt, randomforestclassifier__min_samples_split=4, randomforestclassifier__n_estimators=10; total time=   0.0s\n",
      "[CV] END randomforestclassifier__criterion=gini, randomforestclassifier__max_depth=2, randomforestclassifier__max_features=sqrt, randomforestclassifier__min_samples_split=4, randomforestclassifier__n_estimators=10; total time=   0.0s\n",
      "[CV] END randomforestclassifier__criterion=gini, randomforestclassifier__max_depth=2, randomforestclassifier__max_features=sqrt, randomforestclassifier__min_samples_split=4, randomforestclassifier__n_estimators=10; total time=   0.0s\n",
      "[CV] END randomforestclassifier__criterion=gini, randomforestclassifier__max_depth=2, randomforestclassifier__max_features=sqrt, randomforestclassifier__min_samples_split=4, randomforestclassifier__n_estimators=10; total time=   0.0s\n",
      "[CV] END randomforestclassifier__criterion=gini, randomforestclassifier__max_depth=8, randomforestclassifier__max_features=auto, randomforestclassifier__min_samples_split=2, randomforestclassifier__n_estimators=1; total time=   0.0s\n",
      "[CV] END randomforestclassifier__criterion=gini, randomforestclassifier__max_depth=8, randomforestclassifier__max_features=auto, randomforestclassifier__min_samples_split=2, randomforestclassifier__n_estimators=1; total time=   0.0s\n",
      "[CV] END randomforestclassifier__criterion=gini, randomforestclassifier__max_depth=8, randomforestclassifier__max_features=auto, randomforestclassifier__min_samples_split=2, randomforestclassifier__n_estimators=1; total time=   0.0s\n",
      "[CV] END randomforestclassifier__criterion=gini, randomforestclassifier__max_depth=8, randomforestclassifier__max_features=auto, randomforestclassifier__min_samples_split=2, randomforestclassifier__n_estimators=1; total time=   0.0s\n",
      "[CV] END randomforestclassifier__criterion=gini, randomforestclassifier__max_depth=8, randomforestclassifier__max_features=auto, randomforestclassifier__min_samples_split=2, randomforestclassifier__n_estimators=1; total time=   0.0s\n",
      "[CV] END randomforestclassifier__criterion=gini, randomforestclassifier__max_depth=8, randomforestclassifier__max_features=sqrt, randomforestclassifier__min_samples_split=4, randomforestclassifier__n_estimators=10; total time=   0.0s\n",
      "[CV] END randomforestclassifier__criterion=gini, randomforestclassifier__max_depth=8, randomforestclassifier__max_features=sqrt, randomforestclassifier__min_samples_split=4, randomforestclassifier__n_estimators=10; total time=   0.0s\n",
      "[CV] END randomforestclassifier__criterion=gini, randomforestclassifier__max_depth=8, randomforestclassifier__max_features=sqrt, randomforestclassifier__min_samples_split=4, randomforestclassifier__n_estimators=10; total time=   0.0s\n",
      "[CV] END randomforestclassifier__criterion=gini, randomforestclassifier__max_depth=8, randomforestclassifier__max_features=sqrt, randomforestclassifier__min_samples_split=4, randomforestclassifier__n_estimators=10; total time=   0.0s\n",
      "[CV] END randomforestclassifier__criterion=gini, randomforestclassifier__max_depth=8, randomforestclassifier__max_features=sqrt, randomforestclassifier__min_samples_split=4, randomforestclassifier__n_estimators=10; total time=   0.0s\n",
      "[CV] END randomforestclassifier__criterion=entropy, randomforestclassifier__max_depth=8, randomforestclassifier__max_features=auto, randomforestclassifier__min_samples_split=2, randomforestclassifier__n_estimators=10; total time=   0.0s\n",
      "[CV] END randomforestclassifier__criterion=entropy, randomforestclassifier__max_depth=8, randomforestclassifier__max_features=auto, randomforestclassifier__min_samples_split=2, randomforestclassifier__n_estimators=10; total time=   0.0s\n",
      "[CV] END randomforestclassifier__criterion=entropy, randomforestclassifier__max_depth=8, randomforestclassifier__max_features=auto, randomforestclassifier__min_samples_split=2, randomforestclassifier__n_estimators=10; total time=   0.0s\n",
      "[CV] END randomforestclassifier__criterion=entropy, randomforestclassifier__max_depth=8, randomforestclassifier__max_features=auto, randomforestclassifier__min_samples_split=2, randomforestclassifier__n_estimators=10; total time=   0.1s\n",
      "[CV] END randomforestclassifier__criterion=entropy, randomforestclassifier__max_depth=8, randomforestclassifier__max_features=auto, randomforestclassifier__min_samples_split=2, randomforestclassifier__n_estimators=10; total time=   0.0s\n",
      "[CV] END randomforestclassifier__criterion=entropy, randomforestclassifier__max_depth=8, randomforestclassifier__max_features=auto, randomforestclassifier__min_samples_split=3, randomforestclassifier__n_estimators=1000; total time=   8.1s\n",
      "[CV] END randomforestclassifier__criterion=entropy, randomforestclassifier__max_depth=8, randomforestclassifier__max_features=auto, randomforestclassifier__min_samples_split=3, randomforestclassifier__n_estimators=1000; total time=   6.5s\n",
      "[CV] END randomforestclassifier__criterion=entropy, randomforestclassifier__max_depth=8, randomforestclassifier__max_features=auto, randomforestclassifier__min_samples_split=3, randomforestclassifier__n_estimators=1000; total time=   6.7s\n",
      "[CV] END randomforestclassifier__criterion=entropy, randomforestclassifier__max_depth=8, randomforestclassifier__max_features=auto, randomforestclassifier__min_samples_split=3, randomforestclassifier__n_estimators=1000; total time=   6.7s\n",
      "[CV] END randomforestclassifier__criterion=entropy, randomforestclassifier__max_depth=8, randomforestclassifier__max_features=auto, randomforestclassifier__min_samples_split=3, randomforestclassifier__n_estimators=1000; total time=   6.6s\n",
      "[CV] END randomforestclassifier__criterion=entropy, randomforestclassifier__max_depth=2, randomforestclassifier__max_features=auto, randomforestclassifier__min_samples_split=5, randomforestclassifier__n_estimators=100; total time=   0.2s\n",
      "[CV] END randomforestclassifier__criterion=entropy, randomforestclassifier__max_depth=2, randomforestclassifier__max_features=auto, randomforestclassifier__min_samples_split=5, randomforestclassifier__n_estimators=100; total time=   0.2s\n",
      "[CV] END randomforestclassifier__criterion=entropy, randomforestclassifier__max_depth=2, randomforestclassifier__max_features=auto, randomforestclassifier__min_samples_split=5, randomforestclassifier__n_estimators=100; total time=   0.3s\n",
      "[CV] END randomforestclassifier__criterion=entropy, randomforestclassifier__max_depth=2, randomforestclassifier__max_features=auto, randomforestclassifier__min_samples_split=5, randomforestclassifier__n_estimators=100; total time=   0.2s\n",
      "[CV] END randomforestclassifier__criterion=entropy, randomforestclassifier__max_depth=2, randomforestclassifier__max_features=auto, randomforestclassifier__min_samples_split=5, randomforestclassifier__n_estimators=100; total time=   0.2s\n",
      "[CV] END randomforestclassifier__criterion=entropy, randomforestclassifier__max_depth=5, randomforestclassifier__max_features=auto, randomforestclassifier__min_samples_split=2, randomforestclassifier__n_estimators=1000; total time=   4.9s\n",
      "[CV] END randomforestclassifier__criterion=entropy, randomforestclassifier__max_depth=5, randomforestclassifier__max_features=auto, randomforestclassifier__min_samples_split=2, randomforestclassifier__n_estimators=1000; total time=   4.9s\n",
      "[CV] END randomforestclassifier__criterion=entropy, randomforestclassifier__max_depth=5, randomforestclassifier__max_features=auto, randomforestclassifier__min_samples_split=2, randomforestclassifier__n_estimators=1000; total time=   4.9s\n",
      "[CV] END randomforestclassifier__criterion=entropy, randomforestclassifier__max_depth=5, randomforestclassifier__max_features=auto, randomforestclassifier__min_samples_split=2, randomforestclassifier__n_estimators=1000; total time=   5.0s\n",
      "[CV] END randomforestclassifier__criterion=entropy, randomforestclassifier__max_depth=5, randomforestclassifier__max_features=auto, randomforestclassifier__min_samples_split=2, randomforestclassifier__n_estimators=1000; total time=   4.8s\n"
     ]
    },
    {
     "name": "stdout",
     "output_type": "stream",
     "text": [
      "[CV] END randomforestclassifier__criterion=gini, randomforestclassifier__max_depth=10, randomforestclassifier__max_features=sqrt, randomforestclassifier__min_samples_split=4, randomforestclassifier__n_estimators=100; total time=   0.6s\n",
      "[CV] END randomforestclassifier__criterion=gini, randomforestclassifier__max_depth=10, randomforestclassifier__max_features=sqrt, randomforestclassifier__min_samples_split=4, randomforestclassifier__n_estimators=100; total time=   0.6s\n",
      "[CV] END randomforestclassifier__criterion=gini, randomforestclassifier__max_depth=10, randomforestclassifier__max_features=sqrt, randomforestclassifier__min_samples_split=4, randomforestclassifier__n_estimators=100; total time=   0.5s\n",
      "[CV] END randomforestclassifier__criterion=gini, randomforestclassifier__max_depth=10, randomforestclassifier__max_features=sqrt, randomforestclassifier__min_samples_split=4, randomforestclassifier__n_estimators=100; total time=   0.6s\n",
      "[CV] END randomforestclassifier__criterion=gini, randomforestclassifier__max_depth=10, randomforestclassifier__max_features=sqrt, randomforestclassifier__min_samples_split=4, randomforestclassifier__n_estimators=100; total time=   0.5s\n",
      "[CV] END randomforestclassifier__criterion=gini, randomforestclassifier__max_depth=5, randomforestclassifier__max_features=sqrt, randomforestclassifier__min_samples_split=3, randomforestclassifier__n_estimators=1; total time=   0.0s\n",
      "[CV] END randomforestclassifier__criterion=gini, randomforestclassifier__max_depth=5, randomforestclassifier__max_features=sqrt, randomforestclassifier__min_samples_split=3, randomforestclassifier__n_estimators=1; total time=   0.0s\n",
      "[CV] END randomforestclassifier__criterion=gini, randomforestclassifier__max_depth=5, randomforestclassifier__max_features=sqrt, randomforestclassifier__min_samples_split=3, randomforestclassifier__n_estimators=1; total time=   0.0s\n",
      "[CV] END randomforestclassifier__criterion=gini, randomforestclassifier__max_depth=5, randomforestclassifier__max_features=sqrt, randomforestclassifier__min_samples_split=3, randomforestclassifier__n_estimators=1; total time=   0.0s\n",
      "[CV] END randomforestclassifier__criterion=gini, randomforestclassifier__max_depth=5, randomforestclassifier__max_features=sqrt, randomforestclassifier__min_samples_split=3, randomforestclassifier__n_estimators=1; total time=   0.0s\n",
      "[CV] END randomforestclassifier__criterion=gini, randomforestclassifier__max_depth=10, randomforestclassifier__max_features=auto, randomforestclassifier__min_samples_split=4, randomforestclassifier__n_estimators=1000; total time=   6.2s\n",
      "[CV] END randomforestclassifier__criterion=gini, randomforestclassifier__max_depth=10, randomforestclassifier__max_features=auto, randomforestclassifier__min_samples_split=4, randomforestclassifier__n_estimators=1000; total time=   6.3s\n",
      "[CV] END randomforestclassifier__criterion=gini, randomforestclassifier__max_depth=10, randomforestclassifier__max_features=auto, randomforestclassifier__min_samples_split=4, randomforestclassifier__n_estimators=1000; total time=   6.4s\n",
      "[CV] END randomforestclassifier__criterion=gini, randomforestclassifier__max_depth=10, randomforestclassifier__max_features=auto, randomforestclassifier__min_samples_split=4, randomforestclassifier__n_estimators=1000; total time=   6.6s\n",
      "[CV] END randomforestclassifier__criterion=gini, randomforestclassifier__max_depth=10, randomforestclassifier__max_features=auto, randomforestclassifier__min_samples_split=4, randomforestclassifier__n_estimators=1000; total time=   6.4s\n",
      "[CV] END randomforestclassifier__criterion=gini, randomforestclassifier__max_depth=2, randomforestclassifier__max_features=sqrt, randomforestclassifier__min_samples_split=3, randomforestclassifier__n_estimators=1000; total time=   3.0s\n",
      "[CV] END randomforestclassifier__criterion=gini, randomforestclassifier__max_depth=2, randomforestclassifier__max_features=sqrt, randomforestclassifier__min_samples_split=3, randomforestclassifier__n_estimators=1000; total time=   2.6s\n",
      "[CV] END randomforestclassifier__criterion=gini, randomforestclassifier__max_depth=2, randomforestclassifier__max_features=sqrt, randomforestclassifier__min_samples_split=3, randomforestclassifier__n_estimators=1000; total time=   2.7s\n",
      "[CV] END randomforestclassifier__criterion=gini, randomforestclassifier__max_depth=2, randomforestclassifier__max_features=sqrt, randomforestclassifier__min_samples_split=3, randomforestclassifier__n_estimators=1000; total time=   2.7s\n",
      "[CV] END randomforestclassifier__criterion=gini, randomforestclassifier__max_depth=2, randomforestclassifier__max_features=sqrt, randomforestclassifier__min_samples_split=3, randomforestclassifier__n_estimators=1000; total time=   2.7s\n",
      "[CV] END randomforestclassifier__criterion=entropy, randomforestclassifier__max_depth=5, randomforestclassifier__max_features=sqrt, randomforestclassifier__min_samples_split=3, randomforestclassifier__n_estimators=1000; total time=   4.9s\n",
      "[CV] END randomforestclassifier__criterion=entropy, randomforestclassifier__max_depth=5, randomforestclassifier__max_features=sqrt, randomforestclassifier__min_samples_split=3, randomforestclassifier__n_estimators=1000; total time=   4.9s\n",
      "[CV] END randomforestclassifier__criterion=entropy, randomforestclassifier__max_depth=5, randomforestclassifier__max_features=sqrt, randomforestclassifier__min_samples_split=3, randomforestclassifier__n_estimators=1000; total time=   4.9s\n",
      "[CV] END randomforestclassifier__criterion=entropy, randomforestclassifier__max_depth=5, randomforestclassifier__max_features=sqrt, randomforestclassifier__min_samples_split=3, randomforestclassifier__n_estimators=1000; total time=   5.0s\n",
      "[CV] END randomforestclassifier__criterion=entropy, randomforestclassifier__max_depth=5, randomforestclassifier__max_features=sqrt, randomforestclassifier__min_samples_split=3, randomforestclassifier__n_estimators=1000; total time=   4.8s\n",
      "[CV] END randomforestclassifier__criterion=entropy, randomforestclassifier__max_depth=10, randomforestclassifier__max_features=auto, randomforestclassifier__min_samples_split=3, randomforestclassifier__n_estimators=100; total time=   0.7s\n",
      "[CV] END randomforestclassifier__criterion=entropy, randomforestclassifier__max_depth=10, randomforestclassifier__max_features=auto, randomforestclassifier__min_samples_split=3, randomforestclassifier__n_estimators=100; total time=   0.6s\n",
      "[CV] END randomforestclassifier__criterion=entropy, randomforestclassifier__max_depth=10, randomforestclassifier__max_features=auto, randomforestclassifier__min_samples_split=3, randomforestclassifier__n_estimators=100; total time=   0.7s\n",
      "[CV] END randomforestclassifier__criterion=entropy, randomforestclassifier__max_depth=10, randomforestclassifier__max_features=auto, randomforestclassifier__min_samples_split=3, randomforestclassifier__n_estimators=100; total time=   0.7s\n",
      "[CV] END randomforestclassifier__criterion=entropy, randomforestclassifier__max_depth=10, randomforestclassifier__max_features=auto, randomforestclassifier__min_samples_split=3, randomforestclassifier__n_estimators=100; total time=   0.6s\n",
      "[CV] END randomforestclassifier__criterion=gini, randomforestclassifier__max_depth=2, randomforestclassifier__max_features=sqrt, randomforestclassifier__min_samples_split=4, randomforestclassifier__n_estimators=1000; total time=   2.6s\n",
      "[CV] END randomforestclassifier__criterion=gini, randomforestclassifier__max_depth=2, randomforestclassifier__max_features=sqrt, randomforestclassifier__min_samples_split=4, randomforestclassifier__n_estimators=1000; total time=   2.6s\n",
      "[CV] END randomforestclassifier__criterion=gini, randomforestclassifier__max_depth=2, randomforestclassifier__max_features=sqrt, randomforestclassifier__min_samples_split=4, randomforestclassifier__n_estimators=1000; total time=   2.6s\n",
      "[CV] END randomforestclassifier__criterion=gini, randomforestclassifier__max_depth=2, randomforestclassifier__max_features=sqrt, randomforestclassifier__min_samples_split=4, randomforestclassifier__n_estimators=1000; total time=   2.6s\n",
      "[CV] END randomforestclassifier__criterion=gini, randomforestclassifier__max_depth=2, randomforestclassifier__max_features=sqrt, randomforestclassifier__min_samples_split=4, randomforestclassifier__n_estimators=1000; total time=   2.8s\n",
      "[CV] END randomforestclassifier__criterion=entropy, randomforestclassifier__max_depth=8, randomforestclassifier__max_features=sqrt, randomforestclassifier__min_samples_split=2, randomforestclassifier__n_estimators=1; total time=   0.0s\n",
      "[CV] END randomforestclassifier__criterion=entropy, randomforestclassifier__max_depth=8, randomforestclassifier__max_features=sqrt, randomforestclassifier__min_samples_split=2, randomforestclassifier__n_estimators=1; total time=   0.0s\n",
      "[CV] END randomforestclassifier__criterion=entropy, randomforestclassifier__max_depth=8, randomforestclassifier__max_features=sqrt, randomforestclassifier__min_samples_split=2, randomforestclassifier__n_estimators=1; total time=   0.0s\n",
      "[CV] END randomforestclassifier__criterion=entropy, randomforestclassifier__max_depth=8, randomforestclassifier__max_features=sqrt, randomforestclassifier__min_samples_split=2, randomforestclassifier__n_estimators=1; total time=   0.0s\n",
      "[CV] END randomforestclassifier__criterion=entropy, randomforestclassifier__max_depth=8, randomforestclassifier__max_features=sqrt, randomforestclassifier__min_samples_split=2, randomforestclassifier__n_estimators=1; total time=   0.0s\n"
     ]
    },
    {
     "name": "stdout",
     "output_type": "stream",
     "text": [
      "[CV] END randomforestclassifier__criterion=entropy, randomforestclassifier__max_depth=10, randomforestclassifier__max_features=auto, randomforestclassifier__min_samples_split=4, randomforestclassifier__n_estimators=100; total time=   0.7s\n",
      "[CV] END randomforestclassifier__criterion=entropy, randomforestclassifier__max_depth=10, randomforestclassifier__max_features=auto, randomforestclassifier__min_samples_split=4, randomforestclassifier__n_estimators=100; total time=   0.6s\n",
      "[CV] END randomforestclassifier__criterion=entropy, randomforestclassifier__max_depth=10, randomforestclassifier__max_features=auto, randomforestclassifier__min_samples_split=4, randomforestclassifier__n_estimators=100; total time=   0.7s\n",
      "[CV] END randomforestclassifier__criterion=entropy, randomforestclassifier__max_depth=10, randomforestclassifier__max_features=auto, randomforestclassifier__min_samples_split=4, randomforestclassifier__n_estimators=100; total time=   0.8s\n",
      "[CV] END randomforestclassifier__criterion=entropy, randomforestclassifier__max_depth=10, randomforestclassifier__max_features=auto, randomforestclassifier__min_samples_split=4, randomforestclassifier__n_estimators=100; total time=   0.7s\n",
      "[CV] END randomforestclassifier__criterion=entropy, randomforestclassifier__max_depth=10, randomforestclassifier__max_features=sqrt, randomforestclassifier__min_samples_split=4, randomforestclassifier__n_estimators=10; total time=   0.0s\n",
      "[CV] END randomforestclassifier__criterion=entropy, randomforestclassifier__max_depth=10, randomforestclassifier__max_features=sqrt, randomforestclassifier__min_samples_split=4, randomforestclassifier__n_estimators=10; total time=   0.0s\n",
      "[CV] END randomforestclassifier__criterion=entropy, randomforestclassifier__max_depth=10, randomforestclassifier__max_features=sqrt, randomforestclassifier__min_samples_split=4, randomforestclassifier__n_estimators=10; total time=   0.0s\n",
      "[CV] END randomforestclassifier__criterion=entropy, randomforestclassifier__max_depth=10, randomforestclassifier__max_features=sqrt, randomforestclassifier__min_samples_split=4, randomforestclassifier__n_estimators=10; total time=   0.0s\n",
      "[CV] END randomforestclassifier__criterion=entropy, randomforestclassifier__max_depth=10, randomforestclassifier__max_features=sqrt, randomforestclassifier__min_samples_split=4, randomforestclassifier__n_estimators=10; total time=   0.0s\n",
      "[CV] END randomforestclassifier__criterion=entropy, randomforestclassifier__max_depth=5, randomforestclassifier__max_features=auto, randomforestclassifier__min_samples_split=4, randomforestclassifier__n_estimators=10; total time=   0.0s\n",
      "[CV] END randomforestclassifier__criterion=entropy, randomforestclassifier__max_depth=5, randomforestclassifier__max_features=auto, randomforestclassifier__min_samples_split=4, randomforestclassifier__n_estimators=10; total time=   0.0s\n",
      "[CV] END randomforestclassifier__criterion=entropy, randomforestclassifier__max_depth=5, randomforestclassifier__max_features=auto, randomforestclassifier__min_samples_split=4, randomforestclassifier__n_estimators=10; total time=   0.0s\n",
      "[CV] END randomforestclassifier__criterion=entropy, randomforestclassifier__max_depth=5, randomforestclassifier__max_features=auto, randomforestclassifier__min_samples_split=4, randomforestclassifier__n_estimators=10; total time=   0.0s\n",
      "[CV] END randomforestclassifier__criterion=entropy, randomforestclassifier__max_depth=5, randomforestclassifier__max_features=auto, randomforestclassifier__min_samples_split=4, randomforestclassifier__n_estimators=10; total time=   0.0s\n",
      "[CV] END randomforestclassifier__criterion=gini, randomforestclassifier__max_depth=8, randomforestclassifier__max_features=auto, randomforestclassifier__min_samples_split=3, randomforestclassifier__n_estimators=1000; total time=   5.7s\n",
      "[CV] END randomforestclassifier__criterion=gini, randomforestclassifier__max_depth=8, randomforestclassifier__max_features=auto, randomforestclassifier__min_samples_split=3, randomforestclassifier__n_estimators=1000; total time=   6.2s\n",
      "[CV] END randomforestclassifier__criterion=gini, randomforestclassifier__max_depth=8, randomforestclassifier__max_features=auto, randomforestclassifier__min_samples_split=3, randomforestclassifier__n_estimators=1000; total time=   5.8s\n",
      "[CV] END randomforestclassifier__criterion=gini, randomforestclassifier__max_depth=8, randomforestclassifier__max_features=auto, randomforestclassifier__min_samples_split=3, randomforestclassifier__n_estimators=1000; total time=   6.0s\n",
      "[CV] END randomforestclassifier__criterion=gini, randomforestclassifier__max_depth=8, randomforestclassifier__max_features=auto, randomforestclassifier__min_samples_split=3, randomforestclassifier__n_estimators=1000; total time=   5.6s\n",
      "[CV] END randomforestclassifier__criterion=gini, randomforestclassifier__max_depth=10, randomforestclassifier__max_features=sqrt, randomforestclassifier__min_samples_split=2, randomforestclassifier__n_estimators=100; total time=   0.6s\n",
      "[CV] END randomforestclassifier__criterion=gini, randomforestclassifier__max_depth=10, randomforestclassifier__max_features=sqrt, randomforestclassifier__min_samples_split=2, randomforestclassifier__n_estimators=100; total time=   0.5s\n",
      "[CV] END randomforestclassifier__criterion=gini, randomforestclassifier__max_depth=10, randomforestclassifier__max_features=sqrt, randomforestclassifier__min_samples_split=2, randomforestclassifier__n_estimators=100; total time=   0.6s\n",
      "[CV] END randomforestclassifier__criterion=gini, randomforestclassifier__max_depth=10, randomforestclassifier__max_features=sqrt, randomforestclassifier__min_samples_split=2, randomforestclassifier__n_estimators=100; total time=   0.6s\n",
      "[CV] END randomforestclassifier__criterion=gini, randomforestclassifier__max_depth=10, randomforestclassifier__max_features=sqrt, randomforestclassifier__min_samples_split=2, randomforestclassifier__n_estimators=100; total time=   0.5s\n"
     ]
    },
    {
     "data": {
      "text/plain": [
       "{'randomforestclassifier__n_estimators': 100,\n",
       " 'randomforestclassifier__min_samples_split': 2,\n",
       " 'randomforestclassifier__max_features': 'sqrt',\n",
       " 'randomforestclassifier__max_depth': 10,\n",
       " 'randomforestclassifier__criterion': 'gini'}"
      ]
     },
     "execution_count": 138,
     "metadata": {},
     "output_type": "execute_result"
    }
   ],
   "source": [
    "from sklearn.model_selection import GridSearchCV\n",
    "from sklearn.model_selection import RandomizedSearchCV\n",
    "parameters = {\n",
    "    'randomforestclassifier__n_estimators':[1,10,100,1000],\n",
    "    'randomforestclassifier__criterion': ['gini', 'entropy'],\n",
    "    'randomforestclassifier__min_samples_split': [2,3,4,5],\n",
    "    'randomforestclassifier__max_depth': [2,5,8,10],\n",
    "    'randomforestclassifier__max_features':['auto','sqrt']\n",
    "}\n",
    "\n",
    "\n",
    "rv = RandomizedSearchCV(model3,param_distributions = parameters, cv = 5, verbose = 2, n_iter = 20)\n",
    "\n",
    "rv.fit(X_train,Y_train)\n",
    "rv.best_params_"
   ]
  },
  {
   "cell_type": "code",
   "execution_count": 142,
   "id": "1a118669",
   "metadata": {},
   "outputs": [
    {
     "name": "stdout",
     "output_type": "stream",
     "text": [
      "Fitting 5 folds for each of 6 candidates, totalling 30 fits\n",
      "[CV] END randomforestclassifier__max_depth=15, randomforestclassifier__min_samples_split=2, randomforestclassifier__n_estimators=150; total time=   1.4s\n",
      "[CV] END randomforestclassifier__max_depth=15, randomforestclassifier__min_samples_split=2, randomforestclassifier__n_estimators=150; total time=   1.4s\n",
      "[CV] END randomforestclassifier__max_depth=15, randomforestclassifier__min_samples_split=2, randomforestclassifier__n_estimators=150; total time=   1.4s\n",
      "[CV] END randomforestclassifier__max_depth=15, randomforestclassifier__min_samples_split=2, randomforestclassifier__n_estimators=150; total time=   1.3s\n",
      "[CV] END randomforestclassifier__max_depth=15, randomforestclassifier__min_samples_split=2, randomforestclassifier__n_estimators=150; total time=   1.3s\n",
      "[CV] END randomforestclassifier__max_depth=15, randomforestclassifier__min_samples_split=2, randomforestclassifier__n_estimators=180; total time=   1.4s\n",
      "[CV] END randomforestclassifier__max_depth=15, randomforestclassifier__min_samples_split=2, randomforestclassifier__n_estimators=180; total time=   1.3s\n",
      "[CV] END randomforestclassifier__max_depth=15, randomforestclassifier__min_samples_split=2, randomforestclassifier__n_estimators=180; total time=   1.3s\n",
      "[CV] END randomforestclassifier__max_depth=15, randomforestclassifier__min_samples_split=2, randomforestclassifier__n_estimators=180; total time=   1.2s\n",
      "[CV] END randomforestclassifier__max_depth=15, randomforestclassifier__min_samples_split=2, randomforestclassifier__n_estimators=180; total time=   1.3s\n",
      "[CV] END randomforestclassifier__max_depth=15, randomforestclassifier__min_samples_split=2, randomforestclassifier__n_estimators=200; total time=   1.4s\n",
      "[CV] END randomforestclassifier__max_depth=15, randomforestclassifier__min_samples_split=2, randomforestclassifier__n_estimators=200; total time=   1.4s\n",
      "[CV] END randomforestclassifier__max_depth=15, randomforestclassifier__min_samples_split=2, randomforestclassifier__n_estimators=200; total time=   1.4s\n",
      "[CV] END randomforestclassifier__max_depth=15, randomforestclassifier__min_samples_split=2, randomforestclassifier__n_estimators=200; total time=   1.4s\n",
      "[CV] END randomforestclassifier__max_depth=15, randomforestclassifier__min_samples_split=2, randomforestclassifier__n_estimators=200; total time=   1.4s\n",
      "[CV] END randomforestclassifier__max_depth=18, randomforestclassifier__min_samples_split=2, randomforestclassifier__n_estimators=150; total time=   1.0s\n",
      "[CV] END randomforestclassifier__max_depth=18, randomforestclassifier__min_samples_split=2, randomforestclassifier__n_estimators=150; total time=   1.1s\n",
      "[CV] END randomforestclassifier__max_depth=18, randomforestclassifier__min_samples_split=2, randomforestclassifier__n_estimators=150; total time=   1.1s\n",
      "[CV] END randomforestclassifier__max_depth=18, randomforestclassifier__min_samples_split=2, randomforestclassifier__n_estimators=150; total time=   1.1s\n",
      "[CV] END randomforestclassifier__max_depth=18, randomforestclassifier__min_samples_split=2, randomforestclassifier__n_estimators=150; total time=   1.1s\n",
      "[CV] END randomforestclassifier__max_depth=18, randomforestclassifier__min_samples_split=2, randomforestclassifier__n_estimators=180; total time=   1.3s\n",
      "[CV] END randomforestclassifier__max_depth=18, randomforestclassifier__min_samples_split=2, randomforestclassifier__n_estimators=180; total time=   1.3s\n",
      "[CV] END randomforestclassifier__max_depth=18, randomforestclassifier__min_samples_split=2, randomforestclassifier__n_estimators=180; total time=   1.3s\n",
      "[CV] END randomforestclassifier__max_depth=18, randomforestclassifier__min_samples_split=2, randomforestclassifier__n_estimators=180; total time=   1.3s\n",
      "[CV] END randomforestclassifier__max_depth=18, randomforestclassifier__min_samples_split=2, randomforestclassifier__n_estimators=180; total time=   1.4s\n",
      "[CV] END randomforestclassifier__max_depth=18, randomforestclassifier__min_samples_split=2, randomforestclassifier__n_estimators=200; total time=   1.4s\n",
      "[CV] END randomforestclassifier__max_depth=18, randomforestclassifier__min_samples_split=2, randomforestclassifier__n_estimators=200; total time=   1.4s\n",
      "[CV] END randomforestclassifier__max_depth=18, randomforestclassifier__min_samples_split=2, randomforestclassifier__n_estimators=200; total time=   1.5s\n",
      "[CV] END randomforestclassifier__max_depth=18, randomforestclassifier__min_samples_split=2, randomforestclassifier__n_estimators=200; total time=   1.4s\n",
      "[CV] END randomforestclassifier__max_depth=18, randomforestclassifier__min_samples_split=2, randomforestclassifier__n_estimators=200; total time=   1.5s\n"
     ]
    },
    {
     "data": {
      "text/plain": [
       "{'randomforestclassifier__max_depth': 18,\n",
       " 'randomforestclassifier__min_samples_split': 2,\n",
       " 'randomforestclassifier__n_estimators': 180}"
      ]
     },
     "execution_count": 142,
     "metadata": {},
     "output_type": "execute_result"
    }
   ],
   "source": [
    "# Grid Search over smaller intervals\n",
    "parameters = {\n",
    "    'randomforestclassifier__n_estimators':[150,180,200],\n",
    "    'randomforestclassifier__min_samples_split': [2],\n",
    "    'randomforestclassifier__max_depth': [15,18],\n",
    "}\n",
    "\n",
    "\n",
    "gd = GridSearchCV(model3,param_grid = parameters, cv = 5, verbose = 2)\n",
    "\n",
    "gd.fit(X_train,Y_train)\n",
    "gd.best_params_"
   ]
  },
  {
   "cell_type": "code",
   "execution_count": 144,
   "id": "1474bb7d",
   "metadata": {},
   "outputs": [
    {
     "data": {
      "text/plain": [
       "0.9036652611093091"
      ]
     },
     "execution_count": 144,
     "metadata": {},
     "output_type": "execute_result"
    }
   ],
   "source": [
    "model3 = make_pipeline(preprocessor, \n",
    "                       RandomForestClassifier(class_weight = 'balanced',\n",
    "                                              max_depth = 18, max_features = 'auto',\n",
    "                                              min_samples_split = 2,criterion = 'gini', n_estimators = 180))\n",
    "model3.fit(X_train, Y_train)\n",
    "model3.score(X_val, Y_val)"
   ]
  },
  {
   "cell_type": "code",
   "execution_count": 174,
   "id": "d0c49533",
   "metadata": {},
   "outputs": [
    {
     "data": {
      "text/plain": [
       "0.8940794809407947"
      ]
     },
     "execution_count": 174,
     "metadata": {},
     "output_type": "execute_result"
    }
   ],
   "source": [
    "score = cross_val_score(model3, X, Y)\n",
    "score.mean()"
   ]
  },
  {
   "cell_type": "code",
   "execution_count": 147,
   "id": "a652bf30",
   "metadata": {},
   "outputs": [
    {
     "data": {
      "text/plain": [
       "array([4.03640903e-03, 5.82080012e-03, 4.78500180e-04, 3.31441915e-03,\n",
       "       2.16656818e-03, 7.82440015e-03, 1.26322295e-02, 2.99063251e-02,\n",
       "       4.69836853e-03, 4.98249375e-03, 7.59545012e-03, 2.18668674e-04,\n",
       "       8.06146071e-03, 4.00847535e-02, 4.71468795e-02, 1.39015512e-02,\n",
       "       2.07322443e-02, 6.33176854e-02, 8.15994083e-02, 5.46789934e-02,\n",
       "       9.68614799e-02, 3.92217214e-01, 4.71977319e-03, 1.62280146e-02,\n",
       "       1.52954157e-02, 2.47582288e-02, 2.79910783e-02, 8.73118696e-03])"
      ]
     },
     "execution_count": 147,
     "metadata": {},
     "output_type": "execute_result"
    }
   ],
   "source": [
    "model3[1].feature_importances"
   ]
  },
  {
   "cell_type": "markdown",
   "id": "c0f43e78",
   "metadata": {},
   "source": [
    "Most important features seem to be product-related duration, month, regions of a user and their traffic"
   ]
  },
  {
   "cell_type": "markdown",
   "id": "642766a6",
   "metadata": {},
   "source": [
    "Lastly I would like to try building a neural simple neural network to try to improve on the accuracy of random forest. "
   ]
  },
  {
   "cell_type": "code",
   "execution_count": 170,
   "id": "1d9bf165",
   "metadata": {},
   "outputs": [],
   "source": [
    "from sklearn.neural_network import MLPClassifier\n",
    "model4 = make_pipeline(preprocessor, \n",
    "                       MLPClassifier(hidden_layer_sizes = (100, 50, 10), learning_rate = 'adaptive',\n",
    "                                     activation = 'relu',max_iter = 600))"
   ]
  },
  {
   "cell_type": "code",
   "execution_count": 171,
   "id": "bce44c67",
   "metadata": {},
   "outputs": [
    {
     "data": {
      "text/plain": [
       "Pipeline(steps=[('columntransformer',\n",
       "                 ColumnTransformer(transformers=[('one-hot-encoder',\n",
       "                                                  OneHotEncoder(handle_unknown='ignore'),\n",
       "                                                  ['Month', 'VisitorType']),\n",
       "                                                 ('standard_scaler',\n",
       "                                                  StandardScaler(),\n",
       "                                                  ['Administrative',\n",
       "                                                   'Administrative_Duration',\n",
       "                                                   'Informational',\n",
       "                                                   'Informational_Duration',\n",
       "                                                   'ProductRelated',\n",
       "                                                   'ProductRelated_Duration',\n",
       "                                                   'BounceRates', 'ExitRates',\n",
       "                                                   'PageValues', 'SpecialDay',\n",
       "                                                   'OperatingSystems',\n",
       "                                                   'Browser', 'Region',\n",
       "                                                   'TrafficType',\n",
       "                                                   'Weekend'])])),\n",
       "                ('mlpclassifier',\n",
       "                 MLPClassifier(hidden_layer_sizes=(100, 50, 10),\n",
       "                               learning_rate='adaptive', max_iter=600))])"
      ]
     },
     "execution_count": 171,
     "metadata": {},
     "output_type": "execute_result"
    }
   ],
   "source": [
    "model4.fit(X_train, Y_train)"
   ]
  },
  {
   "cell_type": "code",
   "execution_count": 173,
   "id": "7a7337ab",
   "metadata": {},
   "outputs": [
    {
     "data": {
      "text/plain": [
       "0.8644177748945832"
      ]
     },
     "execution_count": 173,
     "metadata": {},
     "output_type": "execute_result"
    }
   ],
   "source": [
    "model4.score(X_val, Y_val)"
   ]
  },
  {
   "cell_type": "code",
   "execution_count": null,
   "id": "cdf17e36",
   "metadata": {},
   "outputs": [],
   "source": [
    "score = cross_val_score(model4, X, Y)\n",
    "score.mean()"
   ]
  },
  {
   "cell_type": "markdown",
   "id": "062227e4",
   "metadata": {},
   "source": [
    "I think that due to the imbalance in data, random forest is the best model due to its easy to interpret nature and good accuracy."
   ]
  }
 ],
 "metadata": {
  "kernelspec": {
   "display_name": "Python 3",
   "language": "python",
   "name": "python3"
  },
  "language_info": {
   "codemirror_mode": {
    "name": "ipython",
    "version": 3
   },
   "file_extension": ".py",
   "mimetype": "text/x-python",
   "name": "python",
   "nbconvert_exporter": "python",
   "pygments_lexer": "ipython3",
   "version": "3.8.8"
  }
 },
 "nbformat": 4,
 "nbformat_minor": 5
}
